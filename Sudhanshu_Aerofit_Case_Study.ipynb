{
 "cells": [
  {
   "cell_type": "markdown",
   "metadata": {},
   "source": [
    "## Business Problem\n",
    "**The market research team at AeroFit wants to identify the characteristics of the target audience for each type of treadmill offered by the company, to provide a better recommendation of the treadmills to the new customers. The team decides to investigate whether there are differences across the product with respect to customer characteristics.\n",
    "Perform descriptive analytics to create a customer profile for each AeroFit treadmill product by developing appropriate tables and charts. For each AeroFit treadmill product, construct two-way contingency tables and compute all conditional and marginal probabilities along with their insights/impact on the business.**"
   ]
  },
  {
   "cell_type": "code",
   "execution_count": 213,
   "metadata": {},
   "outputs": [],
   "source": [
    "import pandas as pd\n",
    "import numpy as np\n",
    "import seaborn as sns\n",
    "import matplotlib.pyplot as plt\n",
    "%matplotlib inline\n",
    "sns.set(color_codes=True)\n",
    "from scipy import stats\n",
    "import warnings\n",
    "warnings.filterwarnings(\"ignore\")"
   ]
  },
  {
   "cell_type": "code",
   "execution_count": 214,
   "metadata": {},
   "outputs": [],
   "source": [
    "# loading the dataset\n",
    "\n",
    "df = pd.read_csv(\"aerofit_treadmill.csv\")"
   ]
  },
  {
   "cell_type": "code",
   "execution_count": 215,
   "metadata": {},
   "outputs": [
    {
     "data": {
      "text/html": [
       "<div>\n",
       "<style scoped>\n",
       "    .dataframe tbody tr th:only-of-type {\n",
       "        vertical-align: middle;\n",
       "    }\n",
       "\n",
       "    .dataframe tbody tr th {\n",
       "        vertical-align: top;\n",
       "    }\n",
       "\n",
       "    .dataframe thead th {\n",
       "        text-align: right;\n",
       "    }\n",
       "</style>\n",
       "<table border=\"1\" class=\"dataframe\">\n",
       "  <thead>\n",
       "    <tr style=\"text-align: right;\">\n",
       "      <th></th>\n",
       "      <th>Product</th>\n",
       "      <th>Age</th>\n",
       "      <th>Gender</th>\n",
       "      <th>Education</th>\n",
       "      <th>MaritalStatus</th>\n",
       "      <th>Usage</th>\n",
       "      <th>Fitness</th>\n",
       "      <th>Income</th>\n",
       "      <th>Miles</th>\n",
       "    </tr>\n",
       "  </thead>\n",
       "  <tbody>\n",
       "    <tr>\n",
       "      <th>0</th>\n",
       "      <td>KP281</td>\n",
       "      <td>18</td>\n",
       "      <td>Male</td>\n",
       "      <td>14</td>\n",
       "      <td>Single</td>\n",
       "      <td>3</td>\n",
       "      <td>4</td>\n",
       "      <td>29562</td>\n",
       "      <td>112</td>\n",
       "    </tr>\n",
       "    <tr>\n",
       "      <th>1</th>\n",
       "      <td>KP281</td>\n",
       "      <td>19</td>\n",
       "      <td>Male</td>\n",
       "      <td>15</td>\n",
       "      <td>Single</td>\n",
       "      <td>2</td>\n",
       "      <td>3</td>\n",
       "      <td>31836</td>\n",
       "      <td>75</td>\n",
       "    </tr>\n",
       "    <tr>\n",
       "      <th>2</th>\n",
       "      <td>KP281</td>\n",
       "      <td>19</td>\n",
       "      <td>Female</td>\n",
       "      <td>14</td>\n",
       "      <td>Partnered</td>\n",
       "      <td>4</td>\n",
       "      <td>3</td>\n",
       "      <td>30699</td>\n",
       "      <td>66</td>\n",
       "    </tr>\n",
       "    <tr>\n",
       "      <th>3</th>\n",
       "      <td>KP281</td>\n",
       "      <td>19</td>\n",
       "      <td>Male</td>\n",
       "      <td>12</td>\n",
       "      <td>Single</td>\n",
       "      <td>3</td>\n",
       "      <td>3</td>\n",
       "      <td>32973</td>\n",
       "      <td>85</td>\n",
       "    </tr>\n",
       "    <tr>\n",
       "      <th>4</th>\n",
       "      <td>KP281</td>\n",
       "      <td>20</td>\n",
       "      <td>Male</td>\n",
       "      <td>13</td>\n",
       "      <td>Partnered</td>\n",
       "      <td>4</td>\n",
       "      <td>2</td>\n",
       "      <td>35247</td>\n",
       "      <td>47</td>\n",
       "    </tr>\n",
       "  </tbody>\n",
       "</table>\n",
       "</div>"
      ],
      "text/plain": [
       "  Product  Age  Gender  Education MaritalStatus  Usage  Fitness  Income  Miles\n",
       "0   KP281   18    Male         14        Single      3        4   29562    112\n",
       "1   KP281   19    Male         15        Single      2        3   31836     75\n",
       "2   KP281   19  Female         14     Partnered      4        3   30699     66\n",
       "3   KP281   19    Male         12        Single      3        3   32973     85\n",
       "4   KP281   20    Male         13     Partnered      4        2   35247     47"
      ]
     },
     "execution_count": 215,
     "metadata": {},
     "output_type": "execute_result"
    }
   ],
   "source": [
    "df.head()"
   ]
  },
  {
   "cell_type": "code",
   "execution_count": 216,
   "metadata": {},
   "outputs": [
    {
     "data": {
      "text/plain": [
       "Index(['Product', 'Age', 'Gender', 'Education', 'MaritalStatus', 'Usage',\n",
       "       'Fitness', 'Income', 'Miles'],\n",
       "      dtype='object')"
      ]
     },
     "execution_count": 216,
     "metadata": {},
     "output_type": "execute_result"
    }
   ],
   "source": [
    "df.columns"
   ]
  },
  {
   "cell_type": "code",
   "execution_count": 217,
   "metadata": {},
   "outputs": [
    {
     "name": "stdout",
     "output_type": "stream",
     "text": [
      "<class 'pandas.core.frame.DataFrame'>\n",
      "RangeIndex: 180 entries, 0 to 179\n",
      "Data columns (total 9 columns):\n",
      " #   Column         Non-Null Count  Dtype \n",
      "---  ------         --------------  ----- \n",
      " 0   Product        180 non-null    object\n",
      " 1   Age            180 non-null    int64 \n",
      " 2   Gender         180 non-null    object\n",
      " 3   Education      180 non-null    int64 \n",
      " 4   MaritalStatus  180 non-null    object\n",
      " 5   Usage          180 non-null    int64 \n",
      " 6   Fitness        180 non-null    int64 \n",
      " 7   Income         180 non-null    int64 \n",
      " 8   Miles          180 non-null    int64 \n",
      "dtypes: int64(6), object(3)\n",
      "memory usage: 12.8+ KB\n"
     ]
    }
   ],
   "source": [
    "# checking the data structure of the columns\n",
    "\n",
    "df.info()"
   ]
  },
  {
   "cell_type": "code",
   "execution_count": 218,
   "metadata": {},
   "outputs": [
    {
     "name": "stdout",
     "output_type": "stream",
     "text": [
      "No. of Rows =  180\n"
     ]
    }
   ],
   "source": [
    "print(\"No. of Rows = \", df.shape[0])"
   ]
  },
  {
   "cell_type": "code",
   "execution_count": 219,
   "metadata": {},
   "outputs": [
    {
     "name": "stdout",
     "output_type": "stream",
     "text": [
      "No. of Columns =  9\n"
     ]
    }
   ],
   "source": [
    "print(\"No. of Columns = \", df.shape[1])"
   ]
  },
  {
   "cell_type": "code",
   "execution_count": 220,
   "metadata": {},
   "outputs": [
    {
     "data": {
      "text/plain": [
       "Product          0\n",
       "Age              0\n",
       "Gender           0\n",
       "Education        0\n",
       "MaritalStatus    0\n",
       "Usage            0\n",
       "Fitness          0\n",
       "Income           0\n",
       "Miles            0\n",
       "dtype: int64"
      ]
     },
     "execution_count": 220,
     "metadata": {},
     "output_type": "execute_result"
    }
   ],
   "source": [
    "# checking for missing or null values\n",
    "\n",
    "df.isnull().sum()"
   ]
  },
  {
   "cell_type": "markdown",
   "metadata": {},
   "source": [
    "**The given data does not have any missing values.**"
   ]
  },
  {
   "cell_type": "code",
   "execution_count": 221,
   "metadata": {},
   "outputs": [
    {
     "data": {
      "text/html": [
       "<div>\n",
       "<style scoped>\n",
       "    .dataframe tbody tr th:only-of-type {\n",
       "        vertical-align: middle;\n",
       "    }\n",
       "\n",
       "    .dataframe tbody tr th {\n",
       "        vertical-align: top;\n",
       "    }\n",
       "\n",
       "    .dataframe thead th {\n",
       "        text-align: right;\n",
       "    }\n",
       "</style>\n",
       "<table border=\"1\" class=\"dataframe\">\n",
       "  <thead>\n",
       "    <tr style=\"text-align: right;\">\n",
       "      <th></th>\n",
       "      <th>Product</th>\n",
       "      <th>Age</th>\n",
       "      <th>Gender</th>\n",
       "      <th>Education</th>\n",
       "      <th>MaritalStatus</th>\n",
       "      <th>Usage</th>\n",
       "      <th>Fitness</th>\n",
       "      <th>Income</th>\n",
       "      <th>Miles</th>\n",
       "    </tr>\n",
       "  </thead>\n",
       "  <tbody>\n",
       "  </tbody>\n",
       "</table>\n",
       "</div>"
      ],
      "text/plain": [
       "Empty DataFrame\n",
       "Columns: [Product, Age, Gender, Education, MaritalStatus, Usage, Fitness, Income, Miles]\n",
       "Index: []"
      ]
     },
     "execution_count": 221,
     "metadata": {},
     "output_type": "execute_result"
    }
   ],
   "source": [
    "# checking for duplicated values.\n",
    "\n",
    "df[df.duplicated()]"
   ]
  },
  {
   "cell_type": "markdown",
   "metadata": {},
   "source": [
    "**No duplicate values are found in the dataset.**"
   ]
  },
  {
   "cell_type": "code",
   "execution_count": 222,
   "metadata": {
    "scrolled": true
   },
   "outputs": [
    {
     "data": {
      "text/html": [
       "<div>\n",
       "<style scoped>\n",
       "    .dataframe tbody tr th:only-of-type {\n",
       "        vertical-align: middle;\n",
       "    }\n",
       "\n",
       "    .dataframe tbody tr th {\n",
       "        vertical-align: top;\n",
       "    }\n",
       "\n",
       "    .dataframe thead th {\n",
       "        text-align: right;\n",
       "    }\n",
       "</style>\n",
       "<table border=\"1\" class=\"dataframe\">\n",
       "  <thead>\n",
       "    <tr style=\"text-align: right;\">\n",
       "      <th></th>\n",
       "      <th>Product</th>\n",
       "      <th>Age</th>\n",
       "      <th>Gender</th>\n",
       "      <th>Education</th>\n",
       "      <th>MaritalStatus</th>\n",
       "      <th>Usage</th>\n",
       "      <th>Fitness</th>\n",
       "      <th>Income</th>\n",
       "      <th>Miles</th>\n",
       "    </tr>\n",
       "  </thead>\n",
       "  <tbody>\n",
       "    <tr>\n",
       "      <th>count</th>\n",
       "      <td>180</td>\n",
       "      <td>180.000000</td>\n",
       "      <td>180</td>\n",
       "      <td>180.000000</td>\n",
       "      <td>180</td>\n",
       "      <td>180.000000</td>\n",
       "      <td>180.000000</td>\n",
       "      <td>180.000000</td>\n",
       "      <td>180.000000</td>\n",
       "    </tr>\n",
       "    <tr>\n",
       "      <th>unique</th>\n",
       "      <td>3</td>\n",
       "      <td>NaN</td>\n",
       "      <td>2</td>\n",
       "      <td>NaN</td>\n",
       "      <td>2</td>\n",
       "      <td>NaN</td>\n",
       "      <td>NaN</td>\n",
       "      <td>NaN</td>\n",
       "      <td>NaN</td>\n",
       "    </tr>\n",
       "    <tr>\n",
       "      <th>top</th>\n",
       "      <td>KP281</td>\n",
       "      <td>NaN</td>\n",
       "      <td>Male</td>\n",
       "      <td>NaN</td>\n",
       "      <td>Partnered</td>\n",
       "      <td>NaN</td>\n",
       "      <td>NaN</td>\n",
       "      <td>NaN</td>\n",
       "      <td>NaN</td>\n",
       "    </tr>\n",
       "    <tr>\n",
       "      <th>freq</th>\n",
       "      <td>80</td>\n",
       "      <td>NaN</td>\n",
       "      <td>104</td>\n",
       "      <td>NaN</td>\n",
       "      <td>107</td>\n",
       "      <td>NaN</td>\n",
       "      <td>NaN</td>\n",
       "      <td>NaN</td>\n",
       "      <td>NaN</td>\n",
       "    </tr>\n",
       "    <tr>\n",
       "      <th>mean</th>\n",
       "      <td>NaN</td>\n",
       "      <td>28.788889</td>\n",
       "      <td>NaN</td>\n",
       "      <td>15.572222</td>\n",
       "      <td>NaN</td>\n",
       "      <td>3.455556</td>\n",
       "      <td>3.311111</td>\n",
       "      <td>53719.577778</td>\n",
       "      <td>103.194444</td>\n",
       "    </tr>\n",
       "    <tr>\n",
       "      <th>std</th>\n",
       "      <td>NaN</td>\n",
       "      <td>6.943498</td>\n",
       "      <td>NaN</td>\n",
       "      <td>1.617055</td>\n",
       "      <td>NaN</td>\n",
       "      <td>1.084797</td>\n",
       "      <td>0.958869</td>\n",
       "      <td>16506.684226</td>\n",
       "      <td>51.863605</td>\n",
       "    </tr>\n",
       "    <tr>\n",
       "      <th>min</th>\n",
       "      <td>NaN</td>\n",
       "      <td>18.000000</td>\n",
       "      <td>NaN</td>\n",
       "      <td>12.000000</td>\n",
       "      <td>NaN</td>\n",
       "      <td>2.000000</td>\n",
       "      <td>1.000000</td>\n",
       "      <td>29562.000000</td>\n",
       "      <td>21.000000</td>\n",
       "    </tr>\n",
       "    <tr>\n",
       "      <th>25%</th>\n",
       "      <td>NaN</td>\n",
       "      <td>24.000000</td>\n",
       "      <td>NaN</td>\n",
       "      <td>14.000000</td>\n",
       "      <td>NaN</td>\n",
       "      <td>3.000000</td>\n",
       "      <td>3.000000</td>\n",
       "      <td>44058.750000</td>\n",
       "      <td>66.000000</td>\n",
       "    </tr>\n",
       "    <tr>\n",
       "      <th>50%</th>\n",
       "      <td>NaN</td>\n",
       "      <td>26.000000</td>\n",
       "      <td>NaN</td>\n",
       "      <td>16.000000</td>\n",
       "      <td>NaN</td>\n",
       "      <td>3.000000</td>\n",
       "      <td>3.000000</td>\n",
       "      <td>50596.500000</td>\n",
       "      <td>94.000000</td>\n",
       "    </tr>\n",
       "    <tr>\n",
       "      <th>75%</th>\n",
       "      <td>NaN</td>\n",
       "      <td>33.000000</td>\n",
       "      <td>NaN</td>\n",
       "      <td>16.000000</td>\n",
       "      <td>NaN</td>\n",
       "      <td>4.000000</td>\n",
       "      <td>4.000000</td>\n",
       "      <td>58668.000000</td>\n",
       "      <td>114.750000</td>\n",
       "    </tr>\n",
       "    <tr>\n",
       "      <th>max</th>\n",
       "      <td>NaN</td>\n",
       "      <td>50.000000</td>\n",
       "      <td>NaN</td>\n",
       "      <td>21.000000</td>\n",
       "      <td>NaN</td>\n",
       "      <td>7.000000</td>\n",
       "      <td>5.000000</td>\n",
       "      <td>104581.000000</td>\n",
       "      <td>360.000000</td>\n",
       "    </tr>\n",
       "  </tbody>\n",
       "</table>\n",
       "</div>"
      ],
      "text/plain": [
       "       Product         Age Gender   Education MaritalStatus       Usage  \\\n",
       "count      180  180.000000    180  180.000000           180  180.000000   \n",
       "unique       3         NaN      2         NaN             2         NaN   \n",
       "top      KP281         NaN   Male         NaN     Partnered         NaN   \n",
       "freq        80         NaN    104         NaN           107         NaN   \n",
       "mean       NaN   28.788889    NaN   15.572222           NaN    3.455556   \n",
       "std        NaN    6.943498    NaN    1.617055           NaN    1.084797   \n",
       "min        NaN   18.000000    NaN   12.000000           NaN    2.000000   \n",
       "25%        NaN   24.000000    NaN   14.000000           NaN    3.000000   \n",
       "50%        NaN   26.000000    NaN   16.000000           NaN    3.000000   \n",
       "75%        NaN   33.000000    NaN   16.000000           NaN    4.000000   \n",
       "max        NaN   50.000000    NaN   21.000000           NaN    7.000000   \n",
       "\n",
       "           Fitness         Income       Miles  \n",
       "count   180.000000     180.000000  180.000000  \n",
       "unique         NaN            NaN         NaN  \n",
       "top            NaN            NaN         NaN  \n",
       "freq           NaN            NaN         NaN  \n",
       "mean      3.311111   53719.577778  103.194444  \n",
       "std       0.958869   16506.684226   51.863605  \n",
       "min       1.000000   29562.000000   21.000000  \n",
       "25%       3.000000   44058.750000   66.000000  \n",
       "50%       3.000000   50596.500000   94.000000  \n",
       "75%       4.000000   58668.000000  114.750000  \n",
       "max       5.000000  104581.000000  360.000000  "
      ]
     },
     "execution_count": 222,
     "metadata": {},
     "output_type": "execute_result"
    }
   ],
   "source": [
    "df.describe(include=\"all\")"
   ]
  },
  {
   "cell_type": "markdown",
   "metadata": {},
   "source": [
    "* **There are 3 unique products in the given data.**\n",
    "* **KP281 is the top product.**\n",
    "* **The dataset mostly has records for male customers.**\n",
    "* **Married/Partnered people have actively participated in the survey.**\n",
    "* **18 to 50 age groups of people participated in this survey.**\n",
    "* **Mean age is 28.78 years and 75% of people have age less than or equal to 33 years.**\n",
    "* **There is a huge difference between <font color='red'>75% percentile</font> value and <font color='red'>max</font> value for <font color='blue'>Income</font> and <font color='blue'>Miles</font> columns. So there might be outliers present in these two columns.** "
   ]
  },
  {
   "cell_type": "markdown",
   "metadata": {},
   "source": [
    "### NON VISUAL ANALYSIS"
   ]
  },
  {
   "cell_type": "markdown",
   "metadata": {},
   "source": [
    "##### VALUE COUNTS & UNIQUE VALUES"
   ]
  },
  {
   "cell_type": "code",
   "execution_count": 223,
   "metadata": {},
   "outputs": [
    {
     "data": {
      "text/plain": [
       "3"
      ]
     },
     "execution_count": 223,
     "metadata": {},
     "output_type": "execute_result"
    }
   ],
   "source": [
    "\n",
    "df[\"Product\"].nunique()"
   ]
  },
  {
   "cell_type": "code",
   "execution_count": 224,
   "metadata": {},
   "outputs": [
    {
     "data": {
      "text/plain": [
       "KP281    80\n",
       "KP481    60\n",
       "KP781    40\n",
       "Name: Product, dtype: int64"
      ]
     },
     "execution_count": 224,
     "metadata": {},
     "output_type": "execute_result"
    }
   ],
   "source": [
    "\n",
    "df[\"Product\"].value_counts()"
   ]
  },
  {
   "cell_type": "code",
   "execution_count": 225,
   "metadata": {},
   "outputs": [
    {
     "data": {
      "text/plain": [
       "32"
      ]
     },
     "execution_count": 225,
     "metadata": {},
     "output_type": "execute_result"
    }
   ],
   "source": [
    "df[\"Age\"].nunique()"
   ]
  },
  {
   "cell_type": "code",
   "execution_count": 226,
   "metadata": {},
   "outputs": [
    {
     "data": {
      "text/plain": [
       "25    25\n",
       "23    18\n",
       "26    12\n",
       "24    12\n",
       "28     9\n",
       "33     8\n",
       "35     8\n",
       "30     7\n",
       "38     7\n",
       "22     7\n",
       "21     7\n",
       "27     7\n",
       "34     6\n",
       "31     6\n",
       "29     6\n",
       "40     5\n",
       "20     5\n",
       "32     4\n",
       "19     4\n",
       "37     2\n",
       "45     2\n",
       "48     2\n",
       "47     2\n",
       "50     1\n",
       "36     1\n",
       "39     1\n",
       "41     1\n",
       "42     1\n",
       "43     1\n",
       "44     1\n",
       "46     1\n",
       "18     1\n",
       "Name: Age, dtype: int64"
      ]
     },
     "execution_count": 226,
     "metadata": {},
     "output_type": "execute_result"
    }
   ],
   "source": [
    "df[\"Age\"].value_counts()"
   ]
  },
  {
   "cell_type": "code",
   "execution_count": 227,
   "metadata": {},
   "outputs": [
    {
     "data": {
      "text/plain": [
       "2"
      ]
     },
     "execution_count": 227,
     "metadata": {},
     "output_type": "execute_result"
    }
   ],
   "source": [
    "df[\"Gender\"].nunique()"
   ]
  },
  {
   "cell_type": "code",
   "execution_count": 228,
   "metadata": {},
   "outputs": [
    {
     "data": {
      "text/plain": [
       "Male      104\n",
       "Female     76\n",
       "Name: Gender, dtype: int64"
      ]
     },
     "execution_count": 228,
     "metadata": {},
     "output_type": "execute_result"
    }
   ],
   "source": [
    "df[\"Gender\"].value_counts()"
   ]
  },
  {
   "cell_type": "code",
   "execution_count": 229,
   "metadata": {},
   "outputs": [
    {
     "data": {
      "text/plain": [
       "8"
      ]
     },
     "execution_count": 229,
     "metadata": {},
     "output_type": "execute_result"
    }
   ],
   "source": [
    "df[\"Education\"].nunique()"
   ]
  },
  {
   "cell_type": "code",
   "execution_count": 230,
   "metadata": {},
   "outputs": [
    {
     "data": {
      "text/plain": [
       "16    85\n",
       "14    55\n",
       "18    23\n",
       "15     5\n",
       "13     5\n",
       "21     3\n",
       "12     3\n",
       "20     1\n",
       "Name: Education, dtype: int64"
      ]
     },
     "execution_count": 230,
     "metadata": {},
     "output_type": "execute_result"
    }
   ],
   "source": [
    "df[\"Education\"].value_counts()"
   ]
  },
  {
   "cell_type": "code",
   "execution_count": 231,
   "metadata": {},
   "outputs": [
    {
     "data": {
      "text/plain": [
       "2"
      ]
     },
     "execution_count": 231,
     "metadata": {},
     "output_type": "execute_result"
    }
   ],
   "source": [
    "df[\"MaritalStatus\"].nunique()"
   ]
  },
  {
   "cell_type": "code",
   "execution_count": 232,
   "metadata": {},
   "outputs": [
    {
     "data": {
      "text/plain": [
       "Partnered    107\n",
       "Single        73\n",
       "Name: MaritalStatus, dtype: int64"
      ]
     },
     "execution_count": 232,
     "metadata": {},
     "output_type": "execute_result"
    }
   ],
   "source": [
    "df[\"MaritalStatus\"].value_counts()"
   ]
  },
  {
   "cell_type": "code",
   "execution_count": 233,
   "metadata": {},
   "outputs": [
    {
     "data": {
      "text/plain": [
       "6"
      ]
     },
     "execution_count": 233,
     "metadata": {},
     "output_type": "execute_result"
    }
   ],
   "source": [
    "df[\"Usage\"].nunique()"
   ]
  },
  {
   "cell_type": "code",
   "execution_count": 234,
   "metadata": {},
   "outputs": [
    {
     "data": {
      "text/plain": [
       "3    69\n",
       "4    52\n",
       "2    33\n",
       "5    17\n",
       "6     7\n",
       "7     2\n",
       "Name: Usage, dtype: int64"
      ]
     },
     "execution_count": 234,
     "metadata": {},
     "output_type": "execute_result"
    }
   ],
   "source": [
    "df[\"Usage\"].value_counts()"
   ]
  },
  {
   "cell_type": "code",
   "execution_count": 235,
   "metadata": {},
   "outputs": [
    {
     "data": {
      "text/plain": [
       "5"
      ]
     },
     "execution_count": 235,
     "metadata": {},
     "output_type": "execute_result"
    }
   ],
   "source": [
    "df[\"Fitness\"].nunique()"
   ]
  },
  {
   "cell_type": "code",
   "execution_count": 236,
   "metadata": {},
   "outputs": [
    {
     "data": {
      "text/plain": [
       "3    97\n",
       "5    31\n",
       "2    26\n",
       "4    24\n",
       "1     2\n",
       "Name: Fitness, dtype: int64"
      ]
     },
     "execution_count": 236,
     "metadata": {},
     "output_type": "execute_result"
    }
   ],
   "source": [
    "df[\"Fitness\"].value_counts()"
   ]
  },
  {
   "cell_type": "code",
   "execution_count": 237,
   "metadata": {},
   "outputs": [
    {
     "data": {
      "text/plain": [
       "62"
      ]
     },
     "execution_count": 237,
     "metadata": {},
     "output_type": "execute_result"
    }
   ],
   "source": [
    "df[\"Income\"].nunique()"
   ]
  },
  {
   "cell_type": "code",
   "execution_count": 238,
   "metadata": {},
   "outputs": [
    {
     "data": {
      "text/plain": [
       "45480    14\n",
       "52302     9\n",
       "53439     8\n",
       "54576     8\n",
       "46617     8\n",
       "         ..\n",
       "58516     1\n",
       "85906     1\n",
       "29562     1\n",
       "68220     1\n",
       "54781     1\n",
       "Name: Income, Length: 62, dtype: int64"
      ]
     },
     "execution_count": 238,
     "metadata": {},
     "output_type": "execute_result"
    }
   ],
   "source": [
    "df[\"Income\"].value_counts()"
   ]
  },
  {
   "cell_type": "code",
   "execution_count": 239,
   "metadata": {},
   "outputs": [
    {
     "data": {
      "text/plain": [
       "37"
      ]
     },
     "execution_count": 239,
     "metadata": {},
     "output_type": "execute_result"
    }
   ],
   "source": [
    "df[\"Miles\"].nunique()"
   ]
  },
  {
   "cell_type": "code",
   "execution_count": 240,
   "metadata": {},
   "outputs": [
    {
     "data": {
      "text/plain": [
       "85     27\n",
       "95     12\n",
       "66     10\n",
       "75     10\n",
       "47      9\n",
       "106     9\n",
       "113     8\n",
       "94      8\n",
       "53      7\n",
       "100     7\n",
       "56      6\n",
       "64      6\n",
       "180     6\n",
       "200     6\n",
       "127     5\n",
       "160     5\n",
       "42      4\n",
       "150     4\n",
       "120     3\n",
       "38      3\n",
       "170     3\n",
       "74      3\n",
       "103     3\n",
       "132     2\n",
       "141     2\n",
       "300     1\n",
       "280     1\n",
       "21      1\n",
       "240     1\n",
       "80      1\n",
       "212     1\n",
       "360     1\n",
       "112     1\n",
       "140     1\n",
       "169     1\n",
       "188     1\n",
       "260     1\n",
       "Name: Miles, dtype: int64"
      ]
     },
     "execution_count": 240,
     "metadata": {},
     "output_type": "execute_result"
    }
   ],
   "source": [
    "df[\"Miles\"].value_counts()"
   ]
  },
  {
   "cell_type": "markdown",
   "metadata": {},
   "source": [
    "### VISUAL ANALYSIS"
   ]
  },
  {
   "cell_type": "markdown",
   "metadata": {},
   "source": [
    "#### UNIVARIATE & BIVARIATE ANALYSIS"
   ]
  },
  {
   "cell_type": "code",
   "execution_count": 241,
   "metadata": {},
   "outputs": [
    {
     "data": {
      "image/png": "[encoded data removed]",
      "text/plain": [
       "<Figure size 864x576 with 6 Axes>"
      ]
     },
     "metadata": {},
     "output_type": "display_data"
    }
   ],
   "source": [
    "# kde plots for different numerical colums to detect outliers.\n",
    "\n",
    "fig, axis = plt.subplots(nrows=3, ncols=2, figsize=(12, 8))\n",
    "fig.subplots_adjust(top=1.0)\n",
    "sns.kdeplot(x=df.Age, ax=axis[0,0])\n",
    "sns.kdeplot(x=df.Education, ax=axis[0,1])\n",
    "sns.kdeplot(x=df.Usage, ax=axis[1,0])\n",
    "sns.kdeplot(x=df.Fitness, ax=axis[1,1])\n",
    "sns.kdeplot(x=df.Income, ax=axis[2,0])\n",
    "sns.kdeplot(x=df.Miles, ax=axis[2,1])\n",
    "plt.show()"
   ]
  },
  {
   "cell_type": "markdown",
   "metadata": {},
   "source": [
    "* **AS we can see in the above graphs that <font color='blue'>Income</font> and <font color='blue'>Miles</font> graph is more skewed as compared to other graphs. So there is a high chance that these two columns will have more number of outliers.**"
   ]
  },
  {
   "cell_type": "code",
   "execution_count": 242,
   "metadata": {},
   "outputs": [
    {
     "data": {
      "image/png": "[encoded data removed]",
      "text/plain": [
       "<Figure size 864x576 with 6 Axes>"
      ]
     },
     "metadata": {},
     "output_type": "display_data"
    }
   ],
   "source": [
    "fig, axis = plt.subplots(nrows=3, ncols=2, figsize=(12, 8))\n",
    "fig.subplots_adjust(top=1.0)\n",
    "sns.boxplot(x=df.Age, orient='h', ax=axis[0,0], color=\"red\")\n",
    "sns.boxplot(x=df.Education, orient='h', ax=axis[0,1], color=\"green\")\n",
    "sns.boxplot(x=df.Usage, orient='h', ax=axis[1,0], color=\"yellow\")\n",
    "sns.boxplot(x=df.Fitness, orient='h', ax=axis[1,1], color=\"blue\")\n",
    "sns.boxplot(x=df.Income, orient='h', ax=axis[2,0], color=\"grey\")\n",
    "sns.boxplot(x=df.Miles, orient='h', ax=axis[2,1], color=\"violet\")\n",
    "plt.show()"
   ]
  },
  {
   "cell_type": "markdown",
   "metadata": {},
   "source": [
    "* **Boxplot made it quite clear that even all the columns have outliers but the <font color='blue'>Income</font> and <font color='blue'>Miles</font> columns have more number of outliers.**"
   ]
  },
  {
   "cell_type": "markdown",
   "metadata": {},
   "source": [
    "#### OUTLIERS HANDLING"
   ]
  },
  {
   "cell_type": "code",
   "execution_count": 243,
   "metadata": {},
   "outputs": [],
   "source": [
    "# creating a new copy of dataframe to handle the outliers.\n",
    "\n",
    "df1=df.copy()"
   ]
  },
  {
   "cell_type": "code",
   "execution_count": 244,
   "metadata": {},
   "outputs": [
    {
     "data": {
      "text/html": [
       "<div>\n",
       "<style scoped>\n",
       "    .dataframe tbody tr th:only-of-type {\n",
       "        vertical-align: middle;\n",
       "    }\n",
       "\n",
       "    .dataframe tbody tr th {\n",
       "        vertical-align: top;\n",
       "    }\n",
       "\n",
       "    .dataframe thead th {\n",
       "        text-align: right;\n",
       "    }\n",
       "</style>\n",
       "<table border=\"1\" class=\"dataframe\">\n",
       "  <thead>\n",
       "    <tr style=\"text-align: right;\">\n",
       "      <th></th>\n",
       "      <th>Product</th>\n",
       "      <th>Age</th>\n",
       "      <th>Gender</th>\n",
       "      <th>Education</th>\n",
       "      <th>MaritalStatus</th>\n",
       "      <th>Usage</th>\n",
       "      <th>Fitness</th>\n",
       "      <th>Income</th>\n",
       "      <th>Miles</th>\n",
       "    </tr>\n",
       "  </thead>\n",
       "  <tbody>\n",
       "    <tr>\n",
       "      <th>0</th>\n",
       "      <td>KP281</td>\n",
       "      <td>18</td>\n",
       "      <td>Male</td>\n",
       "      <td>14</td>\n",
       "      <td>Single</td>\n",
       "      <td>3</td>\n",
       "      <td>4</td>\n",
       "      <td>29562</td>\n",
       "      <td>112</td>\n",
       "    </tr>\n",
       "    <tr>\n",
       "      <th>1</th>\n",
       "      <td>KP281</td>\n",
       "      <td>19</td>\n",
       "      <td>Male</td>\n",
       "      <td>15</td>\n",
       "      <td>Single</td>\n",
       "      <td>2</td>\n",
       "      <td>3</td>\n",
       "      <td>31836</td>\n",
       "      <td>75</td>\n",
       "    </tr>\n",
       "    <tr>\n",
       "      <th>2</th>\n",
       "      <td>KP281</td>\n",
       "      <td>19</td>\n",
       "      <td>Female</td>\n",
       "      <td>14</td>\n",
       "      <td>Partnered</td>\n",
       "      <td>4</td>\n",
       "      <td>3</td>\n",
       "      <td>30699</td>\n",
       "      <td>66</td>\n",
       "    </tr>\n",
       "    <tr>\n",
       "      <th>3</th>\n",
       "      <td>KP281</td>\n",
       "      <td>19</td>\n",
       "      <td>Male</td>\n",
       "      <td>12</td>\n",
       "      <td>Single</td>\n",
       "      <td>3</td>\n",
       "      <td>3</td>\n",
       "      <td>32973</td>\n",
       "      <td>85</td>\n",
       "    </tr>\n",
       "    <tr>\n",
       "      <th>4</th>\n",
       "      <td>KP281</td>\n",
       "      <td>20</td>\n",
       "      <td>Male</td>\n",
       "      <td>13</td>\n",
       "      <td>Partnered</td>\n",
       "      <td>4</td>\n",
       "      <td>2</td>\n",
       "      <td>35247</td>\n",
       "      <td>47</td>\n",
       "    </tr>\n",
       "  </tbody>\n",
       "</table>\n",
       "</div>"
      ],
      "text/plain": [
       "  Product  Age  Gender  Education MaritalStatus  Usage  Fitness  Income  Miles\n",
       "0   KP281   18    Male         14        Single      3        4   29562    112\n",
       "1   KP281   19    Male         15        Single      2        3   31836     75\n",
       "2   KP281   19  Female         14     Partnered      4        3   30699     66\n",
       "3   KP281   19    Male         12        Single      3        3   32973     85\n",
       "4   KP281   20    Male         13     Partnered      4        2   35247     47"
      ]
     },
     "execution_count": 244,
     "metadata": {},
     "output_type": "execute_result"
    }
   ],
   "source": [
    "df1.head()"
   ]
  },
  {
   "cell_type": "code",
   "execution_count": 245,
   "metadata": {},
   "outputs": [],
   "source": [
    "# age column outlier handling calculating the 5 percentile and 95 percentile.\n",
    "\n",
    "age_05 = df1[\"Age\"].quantile(0.05)\n",
    "age_95 = df1[\"Age\"].quantile(0.95)"
   ]
  },
  {
   "cell_type": "code",
   "execution_count": 246,
   "metadata": {},
   "outputs": [],
   "source": [
    "# using np.clip clipping the outliers between the 5 percentile and 95 percentile.\n",
    "\n",
    "df1['Age'].clip(age_05, age_95, inplace=True)"
   ]
  },
  {
   "cell_type": "code",
   "execution_count": 247,
   "metadata": {},
   "outputs": [
    {
     "data": {
      "text/plain": [
       "0      20.00\n",
       "1      20.00\n",
       "2      20.00\n",
       "3      20.00\n",
       "4      20.00\n",
       "       ...  \n",
       "175    40.00\n",
       "176    42.00\n",
       "177    43.05\n",
       "178    43.05\n",
       "179    43.05\n",
       "Name: Age, Length: 180, dtype: float64"
      ]
     },
     "execution_count": 247,
     "metadata": {},
     "output_type": "execute_result"
    }
   ],
   "source": [
    "df1[\"Age\"]"
   ]
  },
  {
   "cell_type": "code",
   "execution_count": 248,
   "metadata": {},
   "outputs": [
    {
     "data": {
      "text/plain": [
       "25.00    25\n",
       "23.00    18\n",
       "24.00    12\n",
       "26.00    12\n",
       "20.00    10\n",
       "28.00     9\n",
       "43.05     9\n",
       "35.00     8\n",
       "33.00     8\n",
       "38.00     7\n",
       "21.00     7\n",
       "30.00     7\n",
       "22.00     7\n",
       "27.00     7\n",
       "34.00     6\n",
       "31.00     6\n",
       "29.00     6\n",
       "40.00     5\n",
       "32.00     4\n",
       "37.00     2\n",
       "39.00     1\n",
       "41.00     1\n",
       "43.00     1\n",
       "36.00     1\n",
       "42.00     1\n",
       "Name: Age, dtype: int64"
      ]
     },
     "execution_count": 248,
     "metadata": {},
     "output_type": "execute_result"
    }
   ],
   "source": [
    "df1[\"Age\"].value_counts()"
   ]
  },
  {
   "cell_type": "code",
   "execution_count": 249,
   "metadata": {},
   "outputs": [],
   "source": [
    "education_05 = df1[\"Education\"].quantile(0.05)\n",
    "education_95 = df1[\"Education\"].quantile(0.95)\n",
    "df1['Education'].clip(education_05, education_95, inplace=True)"
   ]
  },
  {
   "cell_type": "code",
   "execution_count": 250,
   "metadata": {},
   "outputs": [],
   "source": [
    "usage_05 = df1[\"Usage\"].quantile(0.05)\n",
    "usage_95 = df1[\"Usage\"].quantile(0.95)\n",
    "df1['Usage'].clip(usage_05, usage_95, inplace=True)"
   ]
  },
  {
   "cell_type": "code",
   "execution_count": 251,
   "metadata": {},
   "outputs": [],
   "source": [
    "fitness_05 = df1[\"Fitness\"].quantile(0.05)\n",
    "fitness_95 = df1[\"Fitness\"].quantile(0.95)\n",
    "df1['Fitness'].clip(fitness_05, fitness_95, inplace=True)"
   ]
  },
  {
   "cell_type": "code",
   "execution_count": 252,
   "metadata": {},
   "outputs": [],
   "source": [
    "income_11 = df1[\"Income\"].quantile(0.11)\n",
    "income_89 = df1[\"Income\"].quantile(0.89)\n",
    "df1['Income'].clip(income_11, income_89, inplace=True)"
   ]
  },
  {
   "cell_type": "code",
   "execution_count": 253,
   "metadata": {},
   "outputs": [],
   "source": [
    "miles_10 = df1[\"Miles\"].quantile(0.10)\n",
    "miles_90 = df1[\"Miles\"].quantile(0.90)\n",
    "df1['Miles'].clip(miles_10, miles_90, inplace=True)"
   ]
  },
  {
   "cell_type": "code",
   "execution_count": 254,
   "metadata": {},
   "outputs": [
    {
     "data": {
      "image/png": "[encoded data removed]",
      "text/plain": [
       "<Figure size 864x576 with 6 Axes>"
      ]
     },
     "metadata": {},
     "output_type": "display_data"
    }
   ],
   "source": [
    "fig, axis = plt.subplots(nrows=3, ncols=2, figsize=(12, 8))\n",
    "fig.subplots_adjust(top=1.0)\n",
    "sns.boxplot(x=df1.Age, orient='h', ax=axis[0,0], color=\"red\")\n",
    "sns.boxplot(x=df1.Education, orient='h', ax=axis[0,1], color=\"green\")\n",
    "sns.boxplot(x=df1.Usage, orient='h', ax=axis[1,0], color=\"yellow\")\n",
    "sns.boxplot(x=df1.Fitness, orient='h', ax=axis[1,1], color=\"blue\")\n",
    "sns.boxplot(x=df1.Income, orient='h', ax=axis[2,0], color=\"grey\")\n",
    "sns.boxplot(x=df1.Miles, orient='h', ax=axis[2,1], color=\"violet\")\n",
    "plt.show()"
   ]
  },
  {
   "cell_type": "markdown",
   "metadata": {},
   "source": [
    "* **Now we can see in the above boxplots that there are no outliers present in the data after outliers handling.**"
   ]
  },
  {
   "cell_type": "code",
   "execution_count": 255,
   "metadata": {},
   "outputs": [
    {
     "data": {
      "text/html": [
       "<div>\n",
       "<style scoped>\n",
       "    .dataframe tbody tr th:only-of-type {\n",
       "        vertical-align: middle;\n",
       "    }\n",
       "\n",
       "    .dataframe tbody tr th {\n",
       "        vertical-align: top;\n",
       "    }\n",
       "\n",
       "    .dataframe thead th {\n",
       "        text-align: right;\n",
       "    }\n",
       "</style>\n",
       "<table border=\"1\" class=\"dataframe\">\n",
       "  <thead>\n",
       "    <tr style=\"text-align: right;\">\n",
       "      <th></th>\n",
       "      <th>Product</th>\n",
       "      <th>Age</th>\n",
       "      <th>Gender</th>\n",
       "      <th>Education</th>\n",
       "      <th>MaritalStatus</th>\n",
       "      <th>Usage</th>\n",
       "      <th>Fitness</th>\n",
       "      <th>Income</th>\n",
       "      <th>Miles</th>\n",
       "    </tr>\n",
       "  </thead>\n",
       "  <tbody>\n",
       "    <tr>\n",
       "      <th>0</th>\n",
       "      <td>KP281</td>\n",
       "      <td>20.0</td>\n",
       "      <td>Male</td>\n",
       "      <td>14</td>\n",
       "      <td>Single</td>\n",
       "      <td>3.0</td>\n",
       "      <td>4</td>\n",
       "      <td>36384.0</td>\n",
       "      <td>112</td>\n",
       "    </tr>\n",
       "    <tr>\n",
       "      <th>1</th>\n",
       "      <td>KP281</td>\n",
       "      <td>20.0</td>\n",
       "      <td>Male</td>\n",
       "      <td>15</td>\n",
       "      <td>Single</td>\n",
       "      <td>2.0</td>\n",
       "      <td>3</td>\n",
       "      <td>36384.0</td>\n",
       "      <td>75</td>\n",
       "    </tr>\n",
       "    <tr>\n",
       "      <th>2</th>\n",
       "      <td>KP281</td>\n",
       "      <td>20.0</td>\n",
       "      <td>Female</td>\n",
       "      <td>14</td>\n",
       "      <td>Partnered</td>\n",
       "      <td>4.0</td>\n",
       "      <td>3</td>\n",
       "      <td>36384.0</td>\n",
       "      <td>66</td>\n",
       "    </tr>\n",
       "    <tr>\n",
       "      <th>3</th>\n",
       "      <td>KP281</td>\n",
       "      <td>20.0</td>\n",
       "      <td>Male</td>\n",
       "      <td>14</td>\n",
       "      <td>Single</td>\n",
       "      <td>3.0</td>\n",
       "      <td>3</td>\n",
       "      <td>36384.0</td>\n",
       "      <td>85</td>\n",
       "    </tr>\n",
       "    <tr>\n",
       "      <th>4</th>\n",
       "      <td>KP281</td>\n",
       "      <td>20.0</td>\n",
       "      <td>Male</td>\n",
       "      <td>14</td>\n",
       "      <td>Partnered</td>\n",
       "      <td>4.0</td>\n",
       "      <td>2</td>\n",
       "      <td>36384.0</td>\n",
       "      <td>53</td>\n",
       "    </tr>\n",
       "  </tbody>\n",
       "</table>\n",
       "</div>"
      ],
      "text/plain": [
       "  Product   Age  Gender  Education MaritalStatus  Usage  Fitness   Income  \\\n",
       "0   KP281  20.0    Male         14        Single    3.0        4  36384.0   \n",
       "1   KP281  20.0    Male         15        Single    2.0        3  36384.0   \n",
       "2   KP281  20.0  Female         14     Partnered    4.0        3  36384.0   \n",
       "3   KP281  20.0    Male         14        Single    3.0        3  36384.0   \n",
       "4   KP281  20.0    Male         14     Partnered    4.0        2  36384.0   \n",
       "\n",
       "   Miles  \n",
       "0    112  \n",
       "1     75  \n",
       "2     66  \n",
       "3     85  \n",
       "4     53  "
      ]
     },
     "execution_count": 255,
     "metadata": {},
     "output_type": "execute_result"
    }
   ],
   "source": [
    "df1.head()"
   ]
  },
  {
   "cell_type": "code",
   "execution_count": 256,
   "metadata": {},
   "outputs": [
    {
     "data": {
      "image/png": "[encoded data removed]",
      "text/plain": [
       "<Figure size 432x432 with 1 Axes>"
      ]
     },
     "metadata": {},
     "output_type": "display_data"
    }
   ],
   "source": [
    "fig, ax = plt.subplots(figsize=(6, 6))\n",
    "c = sns.countplot(x=\"Product\", hue=\"Gender\", data=df1)\n",
    "for p in c.patches:\n",
    "    height = p.get_height()\n",
    "    c.text(p.get_x()+p.get_width()/2., height + 0.1,height ,ha=\"center\")\n",
    "plt.show()"
   ]
  },
  {
   "cell_type": "markdown",
   "metadata": {},
   "source": [
    "* **The above countplot shows that KP281 is used by equal no of male and female, KP481 is used by male a little bit more than female while the KP781 is mostly used by male and very few feamle use this product.**"
   ]
  },
  {
   "cell_type": "code",
   "execution_count": 257,
   "metadata": {},
   "outputs": [
    {
     "data": {
      "text/plain": [
       "Product\n",
       "KP281    28.0\n",
       "KP481    29.0\n",
       "KP781    29.0\n",
       "Name: Age, dtype: float64"
      ]
     },
     "execution_count": 257,
     "metadata": {},
     "output_type": "execute_result"
    }
   ],
   "source": [
    "# Average Age of customer using each product\n",
    "round(df1.groupby('Product')['Age'].mean())"
   ]
  },
  {
   "cell_type": "markdown",
   "metadata": {},
   "source": [
    "* Mean age of people using KP281 product is 28 years.\n",
    "* Mean age of people using KP481 product is 29 years.\n",
    "* Mean age of people using KP781 product is 29 years."
   ]
  },
  {
   "cell_type": "code",
   "execution_count": 258,
   "metadata": {},
   "outputs": [
    {
     "data": {
      "image/png": "[encoded data removed]",
      "text/plain": [
       "<Figure size 432x432 with 1 Axes>"
      ]
     },
     "metadata": {},
     "output_type": "display_data"
    }
   ],
   "source": [
    "fig, ax = plt.subplots(figsize=(6, 6))\n",
    "b = sns.barplot(x=\"Product\", y=\"Age\", data=df1, ci=None)\n",
    "plt.show()"
   ]
  },
  {
   "cell_type": "markdown",
   "metadata": {},
   "source": [
    "* **KP481 & KP781 product is used by same age group while the age of customers using KP281 product is little less.**"
   ]
  },
  {
   "cell_type": "code",
   "execution_count": 259,
   "metadata": {},
   "outputs": [
    {
     "data": {
      "image/png": "[encoded data removed]",
      "text/plain": [
       "<Figure size 576x720 with 1 Axes>"
      ]
     },
     "metadata": {},
     "output_type": "display_data"
    }
   ],
   "source": [
    "fig, ax = plt.subplots(figsize=(8, 10))\n",
    "b = sns.barplot(x=\"Product\", y=\"Age\", data=df1, ci=None, hue=\"Gender\")\n",
    "plt.show()"
   ]
  },
  {
   "cell_type": "markdown",
   "metadata": {},
   "source": [
    "* **KP481 product is used more by the higher aged women as compared to men.**"
   ]
  },
  {
   "cell_type": "code",
   "execution_count": 260,
   "metadata": {},
   "outputs": [
    {
     "data": {
      "text/html": [
       "<div>\n",
       "<style scoped>\n",
       "    .dataframe tbody tr th:only-of-type {\n",
       "        vertical-align: middle;\n",
       "    }\n",
       "\n",
       "    .dataframe tbody tr th {\n",
       "        vertical-align: top;\n",
       "    }\n",
       "\n",
       "    .dataframe thead th {\n",
       "        text-align: right;\n",
       "    }\n",
       "</style>\n",
       "<table border=\"1\" class=\"dataframe\">\n",
       "  <thead>\n",
       "    <tr style=\"text-align: right;\">\n",
       "      <th></th>\n",
       "      <th>Product</th>\n",
       "      <th>Age</th>\n",
       "      <th>Gender</th>\n",
       "      <th>Education</th>\n",
       "      <th>MaritalStatus</th>\n",
       "      <th>Usage</th>\n",
       "      <th>Fitness</th>\n",
       "      <th>Income</th>\n",
       "      <th>Miles</th>\n",
       "      <th>Age_Group</th>\n",
       "    </tr>\n",
       "  </thead>\n",
       "  <tbody>\n",
       "    <tr>\n",
       "      <th>0</th>\n",
       "      <td>KP281</td>\n",
       "      <td>20.0</td>\n",
       "      <td>Male</td>\n",
       "      <td>14</td>\n",
       "      <td>Single</td>\n",
       "      <td>3.0</td>\n",
       "      <td>4</td>\n",
       "      <td>36384.0</td>\n",
       "      <td>112</td>\n",
       "      <td>20.0</td>\n",
       "    </tr>\n",
       "    <tr>\n",
       "      <th>1</th>\n",
       "      <td>KP281</td>\n",
       "      <td>20.0</td>\n",
       "      <td>Male</td>\n",
       "      <td>15</td>\n",
       "      <td>Single</td>\n",
       "      <td>2.0</td>\n",
       "      <td>3</td>\n",
       "      <td>36384.0</td>\n",
       "      <td>75</td>\n",
       "      <td>20.0</td>\n",
       "    </tr>\n",
       "    <tr>\n",
       "      <th>2</th>\n",
       "      <td>KP281</td>\n",
       "      <td>20.0</td>\n",
       "      <td>Female</td>\n",
       "      <td>14</td>\n",
       "      <td>Partnered</td>\n",
       "      <td>4.0</td>\n",
       "      <td>3</td>\n",
       "      <td>36384.0</td>\n",
       "      <td>66</td>\n",
       "      <td>20.0</td>\n",
       "    </tr>\n",
       "    <tr>\n",
       "      <th>3</th>\n",
       "      <td>KP281</td>\n",
       "      <td>20.0</td>\n",
       "      <td>Male</td>\n",
       "      <td>14</td>\n",
       "      <td>Single</td>\n",
       "      <td>3.0</td>\n",
       "      <td>3</td>\n",
       "      <td>36384.0</td>\n",
       "      <td>85</td>\n",
       "      <td>20.0</td>\n",
       "    </tr>\n",
       "    <tr>\n",
       "      <th>4</th>\n",
       "      <td>KP281</td>\n",
       "      <td>20.0</td>\n",
       "      <td>Male</td>\n",
       "      <td>14</td>\n",
       "      <td>Partnered</td>\n",
       "      <td>4.0</td>\n",
       "      <td>2</td>\n",
       "      <td>36384.0</td>\n",
       "      <td>53</td>\n",
       "      <td>20.0</td>\n",
       "    </tr>\n",
       "  </tbody>\n",
       "</table>\n",
       "</div>"
      ],
      "text/plain": [
       "  Product   Age  Gender  Education MaritalStatus  Usage  Fitness   Income  \\\n",
       "0   KP281  20.0    Male         14        Single    3.0        4  36384.0   \n",
       "1   KP281  20.0    Male         15        Single    2.0        3  36384.0   \n",
       "2   KP281  20.0  Female         14     Partnered    4.0        3  36384.0   \n",
       "3   KP281  20.0    Male         14        Single    3.0        3  36384.0   \n",
       "4   KP281  20.0    Male         14     Partnered    4.0        2  36384.0   \n",
       "\n",
       "   Miles  Age_Group  \n",
       "0    112       20.0  \n",
       "1     75       20.0  \n",
       "2     66       20.0  \n",
       "3     85       20.0  \n",
       "4     53       20.0  "
      ]
     },
     "execution_count": 260,
     "metadata": {},
     "output_type": "execute_result"
    }
   ],
   "source": [
    "df1['Age_Group'] = df1.Age\n",
    "df1.head()"
   ]
  },
  {
   "cell_type": "code",
   "execution_count": 261,
   "metadata": {},
   "outputs": [
    {
     "data": {
      "text/plain": [
       "25.00    25\n",
       "23.00    18\n",
       "24.00    12\n",
       "26.00    12\n",
       "20.00    10\n",
       "28.00     9\n",
       "43.05     9\n",
       "35.00     8\n",
       "33.00     8\n",
       "38.00     7\n",
       "21.00     7\n",
       "30.00     7\n",
       "22.00     7\n",
       "27.00     7\n",
       "34.00     6\n",
       "31.00     6\n",
       "29.00     6\n",
       "40.00     5\n",
       "32.00     4\n",
       "37.00     2\n",
       "39.00     1\n",
       "41.00     1\n",
       "43.00     1\n",
       "36.00     1\n",
       "42.00     1\n",
       "Name: Age, dtype: int64"
      ]
     },
     "execution_count": 261,
     "metadata": {},
     "output_type": "execute_result"
    }
   ],
   "source": [
    "df1[\"Age\"].value_counts()"
   ]
  },
  {
   "cell_type": "code",
   "execution_count": 262,
   "metadata": {},
   "outputs": [],
   "source": [
    "# 0-21 -> Teen\n",
    "# 22-30 -> Adult\n",
    "# 31-40 -> Middle Age\n",
    "# 41-43.05 -> Elder Age\n",
    "df1.Age_Group = pd.cut(df1.Age_Group,bins=[0,21,30,40,43.05],labels=['Teen','Adult','Middle Aged','Elder'])"
   ]
  },
  {
   "cell_type": "code",
   "execution_count": 263,
   "metadata": {},
   "outputs": [
    {
     "data": {
      "text/plain": [
       "Adult          103\n",
       "Middle Aged     48\n",
       "Teen            17\n",
       "Elder           12\n",
       "Name: Age_Group, dtype: int64"
      ]
     },
     "execution_count": 263,
     "metadata": {},
     "output_type": "execute_result"
    }
   ],
   "source": [
    "df1[\"Age_Group\"].value_counts()"
   ]
  },
  {
   "cell_type": "markdown",
   "metadata": {},
   "source": [
    "**Adult aged people have more participated in the survey. Adult count is 103.**"
   ]
  },
  {
   "cell_type": "code",
   "execution_count": 264,
   "metadata": {},
   "outputs": [
    {
     "data": {
      "text/plain": [
       "Adult          45\n",
       "Middle Aged    19\n",
       "Teen           10\n",
       "Elder           6\n",
       "Name: Age_Group, dtype: int64"
      ]
     },
     "execution_count": 264,
     "metadata": {},
     "output_type": "execute_result"
    }
   ],
   "source": [
    "df1.loc[df1.Product=='KP281'][\"Age_Group\"].value_counts()"
   ]
  },
  {
   "cell_type": "code",
   "execution_count": 265,
   "metadata": {},
   "outputs": [
    {
     "data": {
      "text/plain": [
       "Adult          28\n",
       "Middle Aged    23\n",
       "Teen            7\n",
       "Elder           2\n",
       "Name: Age_Group, dtype: int64"
      ]
     },
     "execution_count": 265,
     "metadata": {},
     "output_type": "execute_result"
    }
   ],
   "source": [
    "df1.loc[df1.Product=='KP481'][\"Age_Group\"].value_counts()"
   ]
  },
  {
   "cell_type": "code",
   "execution_count": 266,
   "metadata": {},
   "outputs": [
    {
     "data": {
      "text/plain": [
       "Adult          30\n",
       "Middle Aged     6\n",
       "Elder           4\n",
       "Teen            0\n",
       "Name: Age_Group, dtype: int64"
      ]
     },
     "execution_count": 266,
     "metadata": {},
     "output_type": "execute_result"
    }
   ],
   "source": [
    "df1.loc[df1.Product=='KP781'][\"Age_Group\"].value_counts()"
   ]
  },
  {
   "cell_type": "code",
   "execution_count": 267,
   "metadata": {},
   "outputs": [
    {
     "data": {
      "image/png": "[encoded data removed]",
      "text/plain": [
       "<Figure size 576x720 with 1 Axes>"
      ]
     },
     "metadata": {},
     "output_type": "display_data"
    }
   ],
   "source": [
    "fig, ax = plt.subplots(figsize=(8, 10))\n",
    "b = sns.countplot(x=\"Age_Group\", data=df1, hue=\"Product\")\n",
    "plt.show()"
   ]
  },
  {
   "cell_type": "markdown",
   "metadata": {},
   "source": [
    "* **No teen is using KP781.**\n",
    "* **Mostly Adult is using KP281.**"
   ]
  },
  {
   "cell_type": "code",
   "execution_count": 268,
   "metadata": {},
   "outputs": [
    {
     "data": {
      "text/html": [
       "<div>\n",
       "<style scoped>\n",
       "    .dataframe tbody tr th:only-of-type {\n",
       "        vertical-align: middle;\n",
       "    }\n",
       "\n",
       "    .dataframe tbody tr th {\n",
       "        vertical-align: top;\n",
       "    }\n",
       "\n",
       "    .dataframe thead th {\n",
       "        text-align: right;\n",
       "    }\n",
       "</style>\n",
       "<table border=\"1\" class=\"dataframe\">\n",
       "  <thead>\n",
       "    <tr style=\"text-align: right;\">\n",
       "      <th>Age_Group</th>\n",
       "      <th>Teen</th>\n",
       "      <th>Adult</th>\n",
       "      <th>Middle Aged</th>\n",
       "      <th>Elder</th>\n",
       "      <th>All</th>\n",
       "    </tr>\n",
       "    <tr>\n",
       "      <th>Product</th>\n",
       "      <th></th>\n",
       "      <th></th>\n",
       "      <th></th>\n",
       "      <th></th>\n",
       "      <th></th>\n",
       "    </tr>\n",
       "  </thead>\n",
       "  <tbody>\n",
       "    <tr>\n",
       "      <th>KP281</th>\n",
       "      <td>10</td>\n",
       "      <td>45</td>\n",
       "      <td>19</td>\n",
       "      <td>6</td>\n",
       "      <td>80</td>\n",
       "    </tr>\n",
       "    <tr>\n",
       "      <th>KP481</th>\n",
       "      <td>7</td>\n",
       "      <td>28</td>\n",
       "      <td>23</td>\n",
       "      <td>2</td>\n",
       "      <td>60</td>\n",
       "    </tr>\n",
       "    <tr>\n",
       "      <th>KP781</th>\n",
       "      <td>0</td>\n",
       "      <td>30</td>\n",
       "      <td>6</td>\n",
       "      <td>4</td>\n",
       "      <td>40</td>\n",
       "    </tr>\n",
       "    <tr>\n",
       "      <th>All</th>\n",
       "      <td>17</td>\n",
       "      <td>103</td>\n",
       "      <td>48</td>\n",
       "      <td>12</td>\n",
       "      <td>180</td>\n",
       "    </tr>\n",
       "  </tbody>\n",
       "</table>\n",
       "</div>"
      ],
      "text/plain": [
       "Age_Group  Teen  Adult  Middle Aged  Elder  All\n",
       "Product                                        \n",
       "KP281        10     45           19      6   80\n",
       "KP481         7     28           23      2   60\n",
       "KP781         0     30            6      4   40\n",
       "All          17    103           48     12  180"
      ]
     },
     "execution_count": 268,
     "metadata": {},
     "output_type": "execute_result"
    }
   ],
   "source": [
    "pd.crosstab(index=df1.Product,columns=df1.Age_Group,margins=True)"
   ]
  },
  {
   "cell_type": "code",
   "execution_count": 269,
   "metadata": {},
   "outputs": [
    {
     "data": {
      "image/png": "[encoded data removed]",
      "text/plain": [
       "<Figure size 360x360 with 1 Axes>"
      ]
     },
     "metadata": {},
     "output_type": "display_data"
    }
   ],
   "source": [
    "sns.catplot(x='Product',y='Education', data=df1, kind='bar')\n",
    "plt.show()"
   ]
  },
  {
   "cell_type": "markdown",
   "metadata": {},
   "source": [
    "* **People who have education of more than 15 years uses KP781 product while KP481 & KP281 is used by people whose education period lies between 0-15 years.**"
   ]
  },
  {
   "cell_type": "code",
   "execution_count": 270,
   "metadata": {},
   "outputs": [
    {
     "data": {
      "image/png": "[encoded data removed]",
      "text/plain": [
       "<Figure size 360x360 with 1 Axes>"
      ]
     },
     "metadata": {},
     "output_type": "display_data"
    }
   ],
   "source": [
    "sns.catplot(x='Gender',y='Education', data=df1, kind='bar')\n",
    "plt.show()"
   ]
  },
  {
   "cell_type": "markdown",
   "metadata": {},
   "source": [
    "* **Overall Males have higher years of education than Femals.**"
   ]
  },
  {
   "cell_type": "code",
   "execution_count": 271,
   "metadata": {},
   "outputs": [
    {
     "data": {
      "text/plain": [
       "Product\n",
       "KP281    15.125000\n",
       "KP481    15.183333\n",
       "KP781    17.050000\n",
       "Name: Education, dtype: float64"
      ]
     },
     "execution_count": 271,
     "metadata": {},
     "output_type": "execute_result"
    }
   ],
   "source": [
    "# Average Education of customer using each product\n",
    "df1.groupby('Product')['Education'].mean()"
   ]
  },
  {
   "cell_type": "markdown",
   "metadata": {},
   "source": [
    "* Mean of education years of customers using KP281 is 15 years.\n",
    "* Mean of education years of customers using KP481 is 15 years.\n",
    "* Mean of education years of customers using KP781 is 17 years."
   ]
  },
  {
   "cell_type": "code",
   "execution_count": 272,
   "metadata": {},
   "outputs": [
    {
     "data": {
      "image/png": "[encoded data removed]",
      "text/plain": [
       "<Figure size 436.35x360 with 1 Axes>"
      ]
     },
     "metadata": {},
     "output_type": "display_data"
    }
   ],
   "source": [
    "sns.catplot(x='Product',y='Education', data=df1, kind='bar', hue=\"Gender\" )\n",
    "plt.show()"
   ]
  },
  {
   "cell_type": "markdown",
   "metadata": {},
   "source": [
    "* **The above graph shows that the customers using KP781 product more number of females are highly educated there.**"
   ]
  },
  {
   "cell_type": "code",
   "execution_count": 273,
   "metadata": {},
   "outputs": [
    {
     "data": {
      "image/png": "[encoded data removed]",
      "text/plain": [
       "<Figure size 720x360 with 1 Axes>"
      ]
     },
     "metadata": {},
     "output_type": "display_data"
    }
   ],
   "source": [
    "plt.figure(figsize=(10,5))\n",
    "sns.countplot(x=\"MaritalStatus\", data=df1)\n",
    "plt.show()"
   ]
  },
  {
   "cell_type": "markdown",
   "metadata": {},
   "source": [
    "* **More married people participated in the survey.**"
   ]
  },
  {
   "cell_type": "code",
   "execution_count": 274,
   "metadata": {},
   "outputs": [
    {
     "data": {
      "image/png": "[encoded data removed]",
      "text/plain": [
       "<Figure size 720x360 with 1 Axes>"
      ]
     },
     "metadata": {},
     "output_type": "display_data"
    }
   ],
   "source": [
    "plt.figure(figsize=(10,5))\n",
    "c=sns.countplot(x=\"Product\", hue=\"MaritalStatus\", data=df1, palette='cool')\n",
    "for p in c.patches:\n",
    "    height = p.get_height()\n",
    "    c.text(p.get_x()+p.get_width()/2., height + 0.1,height ,ha=\"center\")\n",
    "plt.show()"
   ]
  },
  {
   "cell_type": "markdown",
   "metadata": {},
   "source": [
    "* **KP281 is purchased by 48 married couples and 32 single.**\n",
    "* **KP481 is purchased by 36 married couples and 24 single.**\n",
    "* **KP781 is purchased by 23 married couples and 17 single.**"
   ]
  },
  {
   "cell_type": "code",
   "execution_count": 275,
   "metadata": {},
   "outputs": [
    {
     "data": {
      "text/plain": [
       "Product\n",
       "KP281    3.0\n",
       "KP481    3.0\n",
       "KP781    5.0\n",
       "Name: Usage, dtype: float64"
      ]
     },
     "execution_count": 275,
     "metadata": {},
     "output_type": "execute_result"
    }
   ],
   "source": [
    "# Average usage of each product type by the customer\n",
    "round(df1.groupby('Product')['Usage'].mean())"
   ]
  },
  {
   "cell_type": "markdown",
   "metadata": {},
   "source": [
    "* Mean usage of KP281 product is 3 times in a week.\n",
    "* Mean usage of KP481 product is 3 times in a week.\n",
    "* Mean usage of KP781 product is 5 times in a week."
   ]
  },
  {
   "cell_type": "code",
   "execution_count": 276,
   "metadata": {},
   "outputs": [
    {
     "data": {
      "image/png": "[encoded data removed]",
      "text/plain": [
       "<Figure size 720x360 with 1 Axes>"
      ]
     },
     "metadata": {},
     "output_type": "display_data"
    }
   ],
   "source": [
    "plt.figure(figsize=(10,5))\n",
    "b=sns.barplot(x=\"Product\", y=\"Usage\", data=df1, palette='coolwarm', ci=None)\n",
    "for p in b.patches:\n",
    "    height = round(p.get_height())\n",
    "    b.text(p.get_x()+p.get_width()/2., height + 0.1,height ,ha=\"center\")\n",
    "plt.show()"
   ]
  },
  {
   "cell_type": "markdown",
   "metadata": {},
   "source": [
    "* **The customers having KP781 does exercise 5 times a week.**\n",
    "* **The customers having KP281 & KP481 does exercise 3 times a week.**"
   ]
  },
  {
   "cell_type": "code",
   "execution_count": 277,
   "metadata": {},
   "outputs": [],
   "source": [
    "# creating a new column for fitness of datatype object\n",
    "df1[\"Fitness_Category\"]=df1[\"Fitness\"]"
   ]
  },
  {
   "cell_type": "code",
   "execution_count": 278,
   "metadata": {},
   "outputs": [
    {
     "data": {
      "text/html": [
       "<div>\n",
       "<style scoped>\n",
       "    .dataframe tbody tr th:only-of-type {\n",
       "        vertical-align: middle;\n",
       "    }\n",
       "\n",
       "    .dataframe tbody tr th {\n",
       "        vertical-align: top;\n",
       "    }\n",
       "\n",
       "    .dataframe thead th {\n",
       "        text-align: right;\n",
       "    }\n",
       "</style>\n",
       "<table border=\"1\" class=\"dataframe\">\n",
       "  <thead>\n",
       "    <tr style=\"text-align: right;\">\n",
       "      <th></th>\n",
       "      <th>Product</th>\n",
       "      <th>Age</th>\n",
       "      <th>Gender</th>\n",
       "      <th>Education</th>\n",
       "      <th>MaritalStatus</th>\n",
       "      <th>Usage</th>\n",
       "      <th>Fitness</th>\n",
       "      <th>Income</th>\n",
       "      <th>Miles</th>\n",
       "      <th>Age_Group</th>\n",
       "      <th>Fitness_Category</th>\n",
       "    </tr>\n",
       "  </thead>\n",
       "  <tbody>\n",
       "    <tr>\n",
       "      <th>0</th>\n",
       "      <td>KP281</td>\n",
       "      <td>20.0</td>\n",
       "      <td>Male</td>\n",
       "      <td>14</td>\n",
       "      <td>Single</td>\n",
       "      <td>3.0</td>\n",
       "      <td>4</td>\n",
       "      <td>36384.0</td>\n",
       "      <td>112</td>\n",
       "      <td>Teen</td>\n",
       "      <td>Good Shape</td>\n",
       "    </tr>\n",
       "    <tr>\n",
       "      <th>1</th>\n",
       "      <td>KP281</td>\n",
       "      <td>20.0</td>\n",
       "      <td>Male</td>\n",
       "      <td>15</td>\n",
       "      <td>Single</td>\n",
       "      <td>2.0</td>\n",
       "      <td>3</td>\n",
       "      <td>36384.0</td>\n",
       "      <td>75</td>\n",
       "      <td>Teen</td>\n",
       "      <td>Average Shape</td>\n",
       "    </tr>\n",
       "    <tr>\n",
       "      <th>2</th>\n",
       "      <td>KP281</td>\n",
       "      <td>20.0</td>\n",
       "      <td>Female</td>\n",
       "      <td>14</td>\n",
       "      <td>Partnered</td>\n",
       "      <td>4.0</td>\n",
       "      <td>3</td>\n",
       "      <td>36384.0</td>\n",
       "      <td>66</td>\n",
       "      <td>Teen</td>\n",
       "      <td>Average Shape</td>\n",
       "    </tr>\n",
       "    <tr>\n",
       "      <th>3</th>\n",
       "      <td>KP281</td>\n",
       "      <td>20.0</td>\n",
       "      <td>Male</td>\n",
       "      <td>14</td>\n",
       "      <td>Single</td>\n",
       "      <td>3.0</td>\n",
       "      <td>3</td>\n",
       "      <td>36384.0</td>\n",
       "      <td>85</td>\n",
       "      <td>Teen</td>\n",
       "      <td>Average Shape</td>\n",
       "    </tr>\n",
       "    <tr>\n",
       "      <th>4</th>\n",
       "      <td>KP281</td>\n",
       "      <td>20.0</td>\n",
       "      <td>Male</td>\n",
       "      <td>14</td>\n",
       "      <td>Partnered</td>\n",
       "      <td>4.0</td>\n",
       "      <td>2</td>\n",
       "      <td>36384.0</td>\n",
       "      <td>53</td>\n",
       "      <td>Teen</td>\n",
       "      <td>Bad Shape</td>\n",
       "    </tr>\n",
       "  </tbody>\n",
       "</table>\n",
       "</div>"
      ],
      "text/plain": [
       "  Product   Age  Gender  Education MaritalStatus  Usage  Fitness   Income  \\\n",
       "0   KP281  20.0    Male         14        Single    3.0        4  36384.0   \n",
       "1   KP281  20.0    Male         15        Single    2.0        3  36384.0   \n",
       "2   KP281  20.0  Female         14     Partnered    4.0        3  36384.0   \n",
       "3   KP281  20.0    Male         14        Single    3.0        3  36384.0   \n",
       "4   KP281  20.0    Male         14     Partnered    4.0        2  36384.0   \n",
       "\n",
       "   Miles Age_Group Fitness_Category  \n",
       "0    112      Teen       Good Shape  \n",
       "1     75      Teen    Average Shape  \n",
       "2     66      Teen    Average Shape  \n",
       "3     85      Teen    Average Shape  \n",
       "4     53      Teen        Bad Shape  "
      ]
     },
     "execution_count": 278,
     "metadata": {},
     "output_type": "execute_result"
    }
   ],
   "source": [
    "# assigning values to the new object type fitness column\n",
    "\n",
    "df1[\"Fitness_Category\"].replace({1:\"Poor Shape\",\n",
    "                            2:\"Bad Shape\",\n",
    "                            3:\"Average Shape\",\n",
    "                            4:\"Good Shape\",\n",
    "                            5:\"Excellent Shape\"},inplace=True)\n",
    "df1.head()"
   ]
  },
  {
   "cell_type": "code",
   "execution_count": 279,
   "metadata": {
    "scrolled": true
   },
   "outputs": [
    {
     "data": {
      "text/plain": [
       "Average Shape      97\n",
       "Excellent Shape    31\n",
       "Bad Shape          28\n",
       "Good Shape         24\n",
       "Name: Fitness_Category, dtype: int64"
      ]
     },
     "execution_count": 279,
     "metadata": {},
     "output_type": "execute_result"
    }
   ],
   "source": [
    "df1[\"Fitness_Category\"].value_counts()"
   ]
  },
  {
   "cell_type": "code",
   "execution_count": 280,
   "metadata": {},
   "outputs": [
    {
     "data": {
      "text/plain": [
       "Product\n",
       "KP281    3.0\n",
       "KP481    3.0\n",
       "KP781    5.0\n",
       "Name: Fitness, dtype: float64"
      ]
     },
     "execution_count": 280,
     "metadata": {},
     "output_type": "execute_result"
    }
   ],
   "source": [
    "# Average customer fitness rating for each product type purchased\n",
    "round(df1.groupby('Product')['Fitness'].mean())"
   ]
  },
  {
   "cell_type": "markdown",
   "metadata": {},
   "source": [
    "* Mean ranking of fitness of customers using KP281 is 3.0 - Average Shape.\n",
    "* Mean ranking of fitness of customers using KP481 is 3.0 - Average Shape.\n",
    "* Mean ranking of fitness of customers using KP781 is 5.0 - Excellent Shape."
   ]
  },
  {
   "cell_type": "code",
   "execution_count": 281,
   "metadata": {
    "scrolled": true
   },
   "outputs": [
    {
     "name": "stderr",
     "output_type": "stream",
     "text": [
      "posx and posy should be finite values\n",
      "posx and posy should be finite values\n",
      "posx and posy should be finite values\n",
      "posx and posy should be finite values\n"
     ]
    },
    {
     "data": {
      "image/png": "[encoded data removed]",
      "text/plain": [
       "<Figure size 576x360 with 1 Axes>"
      ]
     },
     "metadata": {},
     "output_type": "display_data"
    }
   ],
   "source": [
    "plt.figure(figsize=(8,5))\n",
    "c=sns.countplot(x=\"Product\", hue=\"Fitness_Category\", data=df1, palette='deep')\n",
    "for p in c.patches:\n",
    "    height = p.get_height()\n",
    "    c.text(p.get_x()+p.get_width()/2., height + 0.1,height ,ha=\"center\")\n",
    "plt.show()"
   ]
  },
  {
   "cell_type": "markdown",
   "metadata": {},
   "source": [
    "* **The above graph shows that the all the <font color='blue'>TRADEMILL</font> products are very usefull for customers as none of the customer is in <font color='blue'>Poor Shape</font> cheers.**\n",
    "* **The customers using <font color='green'>KP781</font> are more in excellent shape.**\n",
    "* **The customers using <font color='red'>KP281 & KP481</font> are more in average shape.**"
   ]
  },
  {
   "cell_type": "code",
   "execution_count": 282,
   "metadata": {},
   "outputs": [
    {
     "data": {
      "image/png": "[encoded data removed]",
      "text/plain": [
       "<Figure size 432x288 with 1 Axes>"
      ]
     },
     "metadata": {},
     "output_type": "display_data"
    }
   ],
   "source": [
    "# income Analysis\n",
    "sns.distplot(df1.Income,rug=True)\n",
    "plt.show()"
   ]
  },
  {
   "cell_type": "markdown",
   "metadata": {},
   "source": [
    "* **Average Income of customers lies between 50K to 55K.**\n",
    "* **Average Income density is over 3.**"
   ]
  },
  {
   "cell_type": "code",
   "execution_count": 283,
   "metadata": {},
   "outputs": [
    {
     "data": {
      "text/plain": [
       "52296.38333333328"
      ]
     },
     "execution_count": 283,
     "metadata": {},
     "output_type": "execute_result"
    }
   ],
   "source": [
    "# exact average income figure\n",
    "df1[\"Income\"].mean()"
   ]
  },
  {
   "cell_type": "code",
   "execution_count": 284,
   "metadata": {},
   "outputs": [
    {
     "data": {
      "image/png": "[encoded data removed]",
      "text/plain": [
       "<Figure size 432x288 with 1 Axes>"
      ]
     },
     "metadata": {},
     "output_type": "display_data"
    }
   ],
   "source": [
    "# Income Analysis\n",
    "h=sns.histplot(data=df1,x='Income', color=\"skyblue\")\n",
    "plt.title(\"Income Count Graph\")\n",
    "for p in h.patches:\n",
    "    height = p.get_height()\n",
    "    h.text(p.get_x()+p.get_width()/2., height + 0.1,height ,ha=\"center\")\n",
    "plt.show()"
   ]
  },
  {
   "cell_type": "markdown",
   "metadata": {},
   "source": [
    "* **36 customers earn 50K$ annually.**"
   ]
  },
  {
   "cell_type": "code",
   "execution_count": 285,
   "metadata": {},
   "outputs": [
    {
     "data": {
      "image/png": "[encoded data removed]",
      "text/plain": [
       "<Figure size 1440x432 with 2 Axes>"
      ]
     },
     "metadata": {},
     "output_type": "display_data"
    }
   ],
   "source": [
    "#Correlation HeatMap\n",
    "plt.figure(figsize=(20,6))\n",
    "ax = sns.heatmap(df1.corr(),annot=True,fmt='.4f',linewidths=.5,cmap='cool')\n",
    "plt.yticks(rotation=0)\n",
    "plt.show()"
   ]
  },
  {
   "cell_type": "markdown",
   "metadata": {},
   "source": [
    "**OBSERVATIONs**\n",
    "* Fitness and Miles are highly correlated having value 0.82\n",
    "* Correlation value between Miles and Usage is 0.77.\n",
    "* Correlation value between Fitness and Income is 0.51\n",
    "* Correlation value between Miles and Income is 0.50\n",
    "* Correlation value between Fitness and Usage is 0.66"
   ]
  },
  {
   "cell_type": "code",
   "execution_count": 286,
   "metadata": {},
   "outputs": [
    {
     "data": {
      "image/png": "[encoded data removed]",
      "text/plain": [
       "<Figure size 864x360 with 1 Axes>"
      ]
     },
     "metadata": {},
     "output_type": "display_data"
    }
   ],
   "source": [
    "# Miles with each product\n",
    "plt.figure(figsize=(12,5))\n",
    "sns.barplot(y='Miles',x='Product',data=df1, ci=None)\n",
    "plt.show()"
   ]
  },
  {
   "cell_type": "markdown",
   "metadata": {},
   "source": [
    "**OBSERVATIONs**\n",
    "* Customers with product KP781, has been able to cover more miles than other two product types.\n",
    "* KP481 product is the second most highest miles covering product among the customers.\n",
    "* KP281 product customer had covered less distance compared with other two product types."
   ]
  },
  {
   "cell_type": "code",
   "execution_count": 287,
   "metadata": {},
   "outputs": [
    {
     "data": {
      "image/png": "[encoded data removed]",
      "text/plain": [
       "<Figure size 864x360 with 1 Axes>"
      ]
     },
     "metadata": {},
     "output_type": "display_data"
    }
   ],
   "source": [
    "plt.figure(figsize=(12,5))\n",
    "sns.barplot(y='Miles',x='Product',data=df1, ci=None, hue=\"Gender\", color=\"yellow\")\n",
    "plt.show()"
   ]
  },
  {
   "cell_type": "markdown",
   "metadata": {},
   "source": [
    "**OBSERVATIONs**\n",
    "* For KP781 product female customers have covered more miles.\n",
    "* For KP281 & KP481 male customers have covered more miles."
   ]
  },
  {
   "cell_type": "code",
   "execution_count": 288,
   "metadata": {},
   "outputs": [
    {
     "data": {
      "text/plain": [
       "<Figure size 864x360 with 0 Axes>"
      ]
     },
     "metadata": {},
     "output_type": "display_data"
    },
    {
     "data": {
      "image/png": "[encoded data removed]",
      "text/plain": [
       "<Figure size 360x360 with 1 Axes>"
      ]
     },
     "metadata": {},
     "output_type": "display_data"
    }
   ],
   "source": [
    "plt.figure(figsize=(12,5))\n",
    "sns.catplot(y='Miles',x='Fitness_Category',data=df1, ci=None, color=\"orange\", kind=\"bar\")\n",
    "plt.show()"
   ]
  },
  {
   "cell_type": "markdown",
   "metadata": {},
   "source": [
    "**OBSERVATIONs**\n",
    "* People who walk/ran more than 150 miles are in excellent shape.\n",
    "* People who walk/run between 120 - 130 miles atre in good shape.\n",
    "* People who walk/run 80-90 miles are in average shape.\n",
    "* People who walk/run less than 60 miles are in bad shape."
   ]
  },
  {
   "cell_type": "code",
   "execution_count": 289,
   "metadata": {},
   "outputs": [
    {
     "data": {
      "image/png": "[encoded data removed]",
      "text/plain": [
       "<Figure size 792.6x360 with 2 Axes>"
      ]
     },
     "metadata": {},
     "output_type": "display_data"
    }
   ],
   "source": [
    "# miles covered in each product by gender and their marital status\n",
    "sns.catplot(x='Gender',y='Miles',hue='Product',col='MaritalStatus',data=df1,kind='bar', ci=None)\n",
    "plt.show()"
   ]
  },
  {
   "cell_type": "markdown",
   "metadata": {},
   "source": [
    "**OBSERVATIONs**\n",
    "* KP781 is more popular among the single and Partnered customers.\n",
    "* Among the both marital statuses, Single female does not prefer much of the products.\n",
    "* Partnered Female bought KP781 treadmill compared to Partnered Male.\n",
    "* Single Female customers bought KP281 treadmill slightly more compared to Single Male customers.\n",
    "* Partnered Male customers bought KP281 treadmill slightly more than Single Male customers.\n",
    "* There are more single Males buying treadmill than single Females.\n",
    "* Single Male customers bought KP781 treadmill compared to single Female.\n",
    "* Partnered customers are more than Single customers."
   ]
  },
  {
   "cell_type": "code",
   "execution_count": 290,
   "metadata": {},
   "outputs": [
    {
     "data": {
      "image/png": "[encoded data removed]",
      "text/plain": [
       "<Figure size 432x432 with 3 Axes>"
      ]
     },
     "metadata": {},
     "output_type": "display_data"
    }
   ],
   "source": [
    "# lets analyze the trend for customer's Gender and Age who rated less than 3 in Fitness rating. \n",
    "\n",
    "sns.jointplot(x='Age',y='Gender',data=df1[df1.Fitness<3])\n",
    "plt.show()"
   ]
  },
  {
   "cell_type": "markdown",
   "metadata": {},
   "source": [
    "**OBSERVATIONs**\n",
    "\n",
    "* Above Joint plot describes the relationship between the customer age and their gender grouping.\n",
    "* Product is not familiar with older or middle age womens."
   ]
  },
  {
   "cell_type": "markdown",
   "metadata": {},
   "source": [
    "### Computing Marginal & Conditional Probabilities:"
   ]
  },
  {
   "cell_type": "markdown",
   "metadata": {},
   "source": [
    "**Marginal Properties**"
   ]
  },
  {
   "cell_type": "code",
   "execution_count": 291,
   "metadata": {},
   "outputs": [
    {
     "data": {
      "text/plain": [
       "KP281    0.444444\n",
       "KP481    0.333333\n",
       "KP781    0.222222\n",
       "Name: Product, dtype: float64"
      ]
     },
     "execution_count": 291,
     "metadata": {},
     "output_type": "execute_result"
    }
   ],
   "source": [
    "df1.Product.value_counts(normalize=True)"
   ]
  },
  {
   "cell_type": "markdown",
   "metadata": {},
   "source": [
    "* Probability of customers buying <font color='blue'>KP281 is 0.44</font>\n",
    "* Probability of customers buying <font color='blue'>KP481 is 0.33</font>\n",
    "* Probability of customers buying <font color='blue'>KP781 is 0.22</font>"
   ]
  },
  {
   "cell_type": "code",
   "execution_count": 292,
   "metadata": {},
   "outputs": [
    {
     "data": {
      "text/plain": [
       "Male      0.577778\n",
       "Female    0.422222\n",
       "Name: Gender, dtype: float64"
      ]
     },
     "execution_count": 292,
     "metadata": {},
     "output_type": "execute_result"
    }
   ],
   "source": [
    "df1.Gender.value_counts(normalize=True)"
   ]
  },
  {
   "cell_type": "markdown",
   "metadata": {},
   "source": [
    "* Probability of male customers is <font color='blue'>0.57</font>\n",
    "* Probability of female customers is <font color='blue'>0.42</font>"
   ]
  },
  {
   "cell_type": "code",
   "execution_count": 293,
   "metadata": {},
   "outputs": [
    {
     "data": {
      "text/plain": [
       "Partnered    0.594444\n",
       "Single       0.405556\n",
       "Name: MaritalStatus, dtype: float64"
      ]
     },
     "execution_count": 293,
     "metadata": {},
     "output_type": "execute_result"
    }
   ],
   "source": [
    "df1.MaritalStatus.value_counts(normalize=True)"
   ]
  },
  {
   "cell_type": "markdown",
   "metadata": {},
   "source": [
    "* Probability of Married/Partnered customers is <font color='blue'>0.59</font>\n",
    "* Probability of Single customers is <font color='blue'>0.40</font>"
   ]
  },
  {
   "cell_type": "code",
   "execution_count": 294,
   "metadata": {},
   "outputs": [
    {
     "data": {
      "text/html": [
       "<div>\n",
       "<style scoped>\n",
       "    .dataframe tbody tr th:only-of-type {\n",
       "        vertical-align: middle;\n",
       "    }\n",
       "\n",
       "    .dataframe tbody tr th {\n",
       "        vertical-align: top;\n",
       "    }\n",
       "\n",
       "    .dataframe thead th {\n",
       "        text-align: right;\n",
       "    }\n",
       "</style>\n",
       "<table border=\"1\" class=\"dataframe\">\n",
       "  <thead>\n",
       "    <tr style=\"text-align: right;\">\n",
       "      <th></th>\n",
       "      <th>Product</th>\n",
       "      <th>Age</th>\n",
       "      <th>Gender</th>\n",
       "      <th>Education</th>\n",
       "      <th>MaritalStatus</th>\n",
       "      <th>Usage</th>\n",
       "      <th>Fitness</th>\n",
       "      <th>Income</th>\n",
       "      <th>Miles</th>\n",
       "      <th>Age_Group</th>\n",
       "      <th>Fitness_Category</th>\n",
       "    </tr>\n",
       "  </thead>\n",
       "  <tbody>\n",
       "    <tr>\n",
       "      <th>0</th>\n",
       "      <td>KP281</td>\n",
       "      <td>20.0</td>\n",
       "      <td>Male</td>\n",
       "      <td>14</td>\n",
       "      <td>Single</td>\n",
       "      <td>3.0</td>\n",
       "      <td>4</td>\n",
       "      <td>36384.0</td>\n",
       "      <td>112</td>\n",
       "      <td>Teen</td>\n",
       "      <td>Good Shape</td>\n",
       "    </tr>\n",
       "    <tr>\n",
       "      <th>1</th>\n",
       "      <td>KP281</td>\n",
       "      <td>20.0</td>\n",
       "      <td>Male</td>\n",
       "      <td>15</td>\n",
       "      <td>Single</td>\n",
       "      <td>2.0</td>\n",
       "      <td>3</td>\n",
       "      <td>36384.0</td>\n",
       "      <td>75</td>\n",
       "      <td>Teen</td>\n",
       "      <td>Average Shape</td>\n",
       "    </tr>\n",
       "    <tr>\n",
       "      <th>2</th>\n",
       "      <td>KP281</td>\n",
       "      <td>20.0</td>\n",
       "      <td>Female</td>\n",
       "      <td>14</td>\n",
       "      <td>Partnered</td>\n",
       "      <td>4.0</td>\n",
       "      <td>3</td>\n",
       "      <td>36384.0</td>\n",
       "      <td>66</td>\n",
       "      <td>Teen</td>\n",
       "      <td>Average Shape</td>\n",
       "    </tr>\n",
       "    <tr>\n",
       "      <th>3</th>\n",
       "      <td>KP281</td>\n",
       "      <td>20.0</td>\n",
       "      <td>Male</td>\n",
       "      <td>14</td>\n",
       "      <td>Single</td>\n",
       "      <td>3.0</td>\n",
       "      <td>3</td>\n",
       "      <td>36384.0</td>\n",
       "      <td>85</td>\n",
       "      <td>Teen</td>\n",
       "      <td>Average Shape</td>\n",
       "    </tr>\n",
       "    <tr>\n",
       "      <th>4</th>\n",
       "      <td>KP281</td>\n",
       "      <td>20.0</td>\n",
       "      <td>Male</td>\n",
       "      <td>14</td>\n",
       "      <td>Partnered</td>\n",
       "      <td>4.0</td>\n",
       "      <td>2</td>\n",
       "      <td>36384.0</td>\n",
       "      <td>53</td>\n",
       "      <td>Teen</td>\n",
       "      <td>Bad Shape</td>\n",
       "    </tr>\n",
       "  </tbody>\n",
       "</table>\n",
       "</div>"
      ],
      "text/plain": [
       "  Product   Age  Gender  Education MaritalStatus  Usage  Fitness   Income  \\\n",
       "0   KP281  20.0    Male         14        Single    3.0        4  36384.0   \n",
       "1   KP281  20.0    Male         15        Single    2.0        3  36384.0   \n",
       "2   KP281  20.0  Female         14     Partnered    4.0        3  36384.0   \n",
       "3   KP281  20.0    Male         14        Single    3.0        3  36384.0   \n",
       "4   KP281  20.0    Male         14     Partnered    4.0        2  36384.0   \n",
       "\n",
       "   Miles Age_Group Fitness_Category  \n",
       "0    112      Teen       Good Shape  \n",
       "1     75      Teen    Average Shape  \n",
       "2     66      Teen    Average Shape  \n",
       "3     85      Teen    Average Shape  \n",
       "4     53      Teen        Bad Shape  "
      ]
     },
     "execution_count": 294,
     "metadata": {},
     "output_type": "execute_result"
    }
   ],
   "source": [
    "df1.head()"
   ]
  },
  {
   "cell_type": "markdown",
   "metadata": {},
   "source": [
    "**Conditional Probabilities P(Product/Gender)**"
   ]
  },
  {
   "cell_type": "code",
   "execution_count": 295,
   "metadata": {},
   "outputs": [
    {
     "name": "stdout",
     "output_type": "stream",
     "text": [
      "Product  KP281  KP481  KP781\n",
      "Gender                      \n",
      "Female      40     29      7\n",
      "Male        40     31     33\n",
      "---------------------------------------------------------------------\n",
      "Prob of Male:  0.58\n",
      "Prob of Female:  0.42\n",
      "\n",
      "Prob P(KP781) for Male: 0.32\n",
      "Prob P(KP481) for Male: 0.3\n",
      "Prob P(KP281) for Male: 0.38\n",
      "\n",
      "Prob P(KP781) for Female: 0.09\n",
      "Prob P(KP481) for Female: 0.38\n",
      "Prob P(KP281) for Female: 0.53\n"
     ]
    }
   ],
   "source": [
    "def gender_product_Probability(gender,df1):\n",
    "    print(f\"Prob P(KP781) for {gender}: {round(df1['KP781'][gender]/df1.loc[gender].sum(),2)}\")\n",
    "    print(f\"Prob P(KP481) for {gender}: {round(df1['KP481'][gender]/df1.loc[gender].sum(),2)}\")\n",
    "    print(f\"Prob P(KP281) for {gender}: {round(df1['KP281'][gender]/df1.loc[gender].sum(),2)}\")\n",
    "    \n",
    "df1_temp = pd.crosstab(index=df1['Gender'],columns=[df1['Product']])\n",
    "print(df1_temp)\n",
    "print(\"---------------------------------------------------------------------\")\n",
    "\n",
    "print(\"Prob of Male: \",round(df1_temp.loc['Male'].sum()/len(df1),2))\n",
    "print(\"Prob of Female: \",round(df1_temp.loc['Female'].sum()/len(df1),2))\n",
    "print()\n",
    "gender_product_Probability('Male',df1_temp)\n",
    "print()\n",
    "gender_product_Probability('Female',df1_temp)\n"
   ]
  },
  {
   "cell_type": "markdown",
   "metadata": {},
   "source": [
    "**Conditional Probabilities P(Product/MaritalStatus)**"
   ]
  },
  {
   "cell_type": "code",
   "execution_count": 296,
   "metadata": {},
   "outputs": [
    {
     "name": "stdout",
     "output_type": "stream",
     "text": [
      "Product        KP281  KP481  KP781\n",
      "MaritalStatus                     \n",
      "Partnered         48     36     23\n",
      "Single            32     24     17\n",
      "---------------------------------------------------------------------------------\n",
      "Prob of P(Single):  0.406\n",
      "Prob of P(Married/Partnered):  0.594\n",
      "\n",
      "Prob P(KP781) for Single: 0.233\n",
      "Prob P(KP481) for Single: 0.329\n",
      "Prob P(KP281) for Single: 0.438\n",
      "\n",
      "Prob P(KP781) for Partnered: 0.215\n",
      "Prob P(KP481) for Partnered: 0.336\n",
      "Prob P(KP281) for Partnered: 0.449\n"
     ]
    }
   ],
   "source": [
    "def MS_Probability(ms_status,df1):\n",
    "    print(f\"Prob P(KP781) for {ms_status}: {round(df1['KP781'][ms_status]/df1.loc[ms_status].sum(),3)}\")\n",
    "    print(f\"Prob P(KP481) for {ms_status}: {round(df1['KP481'][ms_status]/df1.loc[ms_status].sum(),3)}\")\n",
    "    print(f\"Prob P(KP281) for {ms_status}: {round(df1['KP281'][ms_status]/df1.loc[ms_status].sum(),3)}\")\n",
    "    \n",
    "df1_temp = pd.crosstab(index=df1['MaritalStatus'],columns=[df1['Product']])\n",
    "print(df1_temp)\n",
    "print(\"---------------------------------------------------------------------------------\")\n",
    "print(\"Prob of P(Single): \",round(df1_temp.loc['Single'].sum()/len(df1),3))\n",
    "print(\"Prob of P(Married/Partnered): \",round(df1_temp.loc['Partnered'].sum()/len(df1),3))\n",
    "print()\n",
    "MS_Probability('Single',df1_temp)\n",
    "print()\n",
    "MS_Probability('Partnered',df1_temp)"
   ]
  },
  {
   "cell_type": "code",
   "execution_count": 297,
   "metadata": {},
   "outputs": [
    {
     "data": {
      "text/html": [
       "<div>\n",
       "<style scoped>\n",
       "    .dataframe tbody tr th:only-of-type {\n",
       "        vertical-align: middle;\n",
       "    }\n",
       "\n",
       "    .dataframe tbody tr th {\n",
       "        vertical-align: top;\n",
       "    }\n",
       "\n",
       "    .dataframe thead th {\n",
       "        text-align: right;\n",
       "    }\n",
       "</style>\n",
       "<table border=\"1\" class=\"dataframe\">\n",
       "  <thead>\n",
       "    <tr style=\"text-align: right;\">\n",
       "      <th>Gender</th>\n",
       "      <th>Female</th>\n",
       "      <th>Male</th>\n",
       "      <th>All</th>\n",
       "    </tr>\n",
       "    <tr>\n",
       "      <th>Product</th>\n",
       "      <th></th>\n",
       "      <th></th>\n",
       "      <th></th>\n",
       "    </tr>\n",
       "  </thead>\n",
       "  <tbody>\n",
       "    <tr>\n",
       "      <th>KP281</th>\n",
       "      <td>22.22</td>\n",
       "      <td>22.22</td>\n",
       "      <td>44.44</td>\n",
       "    </tr>\n",
       "    <tr>\n",
       "      <th>KP481</th>\n",
       "      <td>16.11</td>\n",
       "      <td>17.22</td>\n",
       "      <td>33.33</td>\n",
       "    </tr>\n",
       "    <tr>\n",
       "      <th>KP781</th>\n",
       "      <td>3.89</td>\n",
       "      <td>18.33</td>\n",
       "      <td>22.22</td>\n",
       "    </tr>\n",
       "    <tr>\n",
       "      <th>All</th>\n",
       "      <td>42.22</td>\n",
       "      <td>57.78</td>\n",
       "      <td>100.00</td>\n",
       "    </tr>\n",
       "  </tbody>\n",
       "</table>\n",
       "</div>"
      ],
      "text/plain": [
       "Gender   Female   Male     All\n",
       "Product                       \n",
       "KP281     22.22  22.22   44.44\n",
       "KP481     16.11  17.22   33.33\n",
       "KP781      3.89  18.33   22.22\n",
       "All       42.22  57.78  100.00"
      ]
     },
     "execution_count": 297,
     "metadata": {},
     "output_type": "execute_result"
    }
   ],
   "source": [
    "np.round(((pd.crosstab(df1.Product,df1.Gender,margins=True))/180)*100,2)"
   ]
  },
  {
   "cell_type": "markdown",
   "metadata": {},
   "source": [
    "**Marginal Probability**\n",
    "\n",
    "* Probability of Male Customer Purchasing any product is : <font color='blue'>57.78%</font>\n",
    "\n",
    "* Probability of Female Customer Purchasing any product is : <font color='blue'>42.22%</font>\n",
    "\n",
    "**Marginal Probability of any customer buying products**\n",
    "\n",
    "* Probability for product KP281 is : <font color='blue'>44.44%</font> (cheapest / entry level product)\n",
    "\n",
    "* Probability for product KP481 is : <font color='blue'>33.33%</font> (intermediate user level product)\n",
    "\n",
    "* Probability for product KP781 is : <font color='blue'>22.22%</font> (Advanced product)"
   ]
  },
  {
   "cell_type": "code",
   "execution_count": 298,
   "metadata": {},
   "outputs": [
    {
     "data": {
      "text/html": [
       "<div>\n",
       "<style scoped>\n",
       "    .dataframe tbody tr th:only-of-type {\n",
       "        vertical-align: middle;\n",
       "    }\n",
       "\n",
       "    .dataframe tbody tr th {\n",
       "        vertical-align: top;\n",
       "    }\n",
       "\n",
       "    .dataframe thead th {\n",
       "        text-align: right;\n",
       "    }\n",
       "</style>\n",
       "<table border=\"1\" class=\"dataframe\">\n",
       "  <thead>\n",
       "    <tr style=\"text-align: right;\">\n",
       "      <th>Gender</th>\n",
       "      <th>Female</th>\n",
       "      <th>Male</th>\n",
       "      <th>All</th>\n",
       "    </tr>\n",
       "    <tr>\n",
       "      <th>Product</th>\n",
       "      <th></th>\n",
       "      <th></th>\n",
       "      <th></th>\n",
       "    </tr>\n",
       "  </thead>\n",
       "  <tbody>\n",
       "    <tr>\n",
       "      <th>KP281</th>\n",
       "      <td>52.63</td>\n",
       "      <td>38.46</td>\n",
       "      <td>44.44</td>\n",
       "    </tr>\n",
       "    <tr>\n",
       "      <th>KP481</th>\n",
       "      <td>38.16</td>\n",
       "      <td>29.81</td>\n",
       "      <td>33.33</td>\n",
       "    </tr>\n",
       "    <tr>\n",
       "      <th>KP781</th>\n",
       "      <td>9.21</td>\n",
       "      <td>31.73</td>\n",
       "      <td>22.22</td>\n",
       "    </tr>\n",
       "  </tbody>\n",
       "</table>\n",
       "</div>"
      ],
      "text/plain": [
       "Gender   Female   Male    All\n",
       "Product                      \n",
       "KP281     52.63  38.46  44.44\n",
       "KP481     38.16  29.81  33.33\n",
       "KP781      9.21  31.73  22.22"
      ]
     },
     "execution_count": 298,
     "metadata": {},
     "output_type": "execute_result"
    }
   ],
   "source": [
    "np.round((pd.crosstab([df1.Product],df1.Gender,margins=True,normalize=\"columns\"))*100,2)"
   ]
  },
  {
   "cell_type": "markdown",
   "metadata": {},
   "source": [
    "**Conditional Probabilities**\n",
    "\n",
    "* Probability of Female customer buying KP281 is <font color='blue'>52.63%</font> which is more than Male <font color='blue'>38.46%</font>.\n",
    "\n",
    "* KP281 is more recommended for female customers.\n",
    "\n",
    "* Probability of Male customer buying Product KP781 is <font color='blue'>31.73%</font> which is way more than female <font color='blue'>9.21%</font>.\n",
    "\n",
    "* Probability of Female customer buying Product KP481 is <font color='blue'>38.15%</font> which is significantly higher than male <font color='blue'>29.08%</font>.\n",
    "\n",
    "* KP481 product is specifically recommended for Female customers who exercise at intermediate level."
   ]
  },
  {
   "cell_type": "markdown",
   "metadata": {},
   "source": [
    "#### KEY TAKEWAYS"
   ]
  },
  {
   "cell_type": "markdown",
   "metadata": {},
   "source": [
    "**Customer's Profile on the basis of Products**"
   ]
  },
  {
   "cell_type": "markdown",
   "metadata": {},
   "source": [
    "#### KP281"
   ]
  },
  {
   "cell_type": "markdown",
   "metadata": {},
   "source": [
    "* KP281 is the entry level and cheap product which is also the most selling product among the available products.\n",
    "* This product is easily afforded by both Male and Female customers.\n",
    "\n",
    "* Average distance covered in this model is around 70 to 90 miles.\n",
    "\n",
    "* Product is used 3 to 4 times a week.\n",
    "\n",
    "* Most of the customer who have purchased the product have rated Average shape as the fitness rating.\n",
    "\n",
    "* All age group customers prefer this product.\n",
    "\n",
    "* Single female & Partnered male customers bought this product more than single male customers.\n",
    "\n",
    "* Income range between 35K to 50K have preferred this product."
   ]
  },
  {
   "cell_type": "markdown",
   "metadata": {},
   "source": [
    "#### KP481"
   ]
  },
  {
   "cell_type": "markdown",
   "metadata": {},
   "source": [
    "* KP481 is an intermediate level product and second most popular product among customers.\n",
    "* Fitness level of the customers using this product varies from Bad to Average Shape depending on their usage.\n",
    "* Customers prefer this product mostly to cover more miles than fitness.\n",
    "* Average distance covered in this product is from 70 to 130 miles per week.\n",
    "* Probability of Female customer buying KP481 is significantly higher than male.\n",
    "* This product is specifically recommended for female customers who are intermediate user and female walks more miles as comapred to males using this product.\n",
    "* Three different age groups prefer this product - Teen, Adult and middle aged.\n",
    "* Average Income of the customer who buys KP481 is 49K.\n",
    "* Average Usage of this product is 3 days per week.\n",
    "* More Partnered customers prefer this product.\n",
    "* The age range of KP481 treadmill customers is roughly between 22-30 years."
   ]
  },
  {
   "cell_type": "markdown",
   "metadata": {},
   "source": [
    "#### KP781"
   ]
  },
  {
   "cell_type": "markdown",
   "metadata": {},
   "source": [
    "* KP781 is an advanced level product and not mostly used by the customers.\n",
    "* The cuustomers use this product mainly to cover more distance.\n",
    "* The customers who use this product have rated excelled shape as fitness rating.\n",
    "* The customer walk/run average 120 to 200 or more miles per week on his product.\n",
    "* The customers use 4 to 5 times a week at least.\n",
    "* Female Customers who are running average 180 miles (extensive exercise) , are using product KP781, which is higher than Male average using same product.\n",
    "* Customers who have more experience with previous aerofit products tend to buy this product\n",
    "* This product is preferred by the customer where the correlation between Education and Income is High.\n",
    "* Partnered Female bought KP781 treadmill compared to Partnered Male."
   ]
  },
  {
   "cell_type": "markdown",
   "metadata": {},
   "source": [
    "#### RECOMMENDATIONS"
   ]
  },
  {
   "cell_type": "markdown",
   "metadata": {},
   "source": [
    "* Company should promote more awareness of health and their equipments in people of age group of above 35 years people.\n",
    "* Mostly people are targeted toward Average Fitness, Company should every month held prize distribution to people have Excellent and Good fitness level so that more people will exercise and due to it people will start promoting Aerofit Products.\n",
    "* Provide customer support and recommend users to upgrade from lower versions to next level versions after consistent usages.\n",
    "* Female who prefer these equipments are very low here. Hence, the company should run a some awarness cum marketing campaign to encourage women to exercise more.\n",
    "* KP281 & KP481 treadmills are preferred by the customers whose annual income lies in the range of 39K - 53K $. These are the budget friendly treadmills.\n",
    "* People running more than 180 miles are very few , so company should promote  more awareness towards running and should offer them discount coupons/goodies if they run more than 180 miles.\n",
    "* Keeping in mind the health conditions of the people company should do some research of people aged above 45 years and suggest product for them.\n",
    "* KP781 provides more features and functionalities, so this treadmill should be marketed for professionals, athelets and sport persons.\n",
    "\n"
   ]
  },
  {
   "cell_type": "code",
   "execution_count": null,
   "metadata": {},
   "outputs": [],
   "source": []
  }
 ],
 "metadata": {
  "kernelspec": {
   "display_name": "Python 3",
   "language": "python",
   "name": "python3"
  },
  "language_info": {
   "codemirror_mode": {
    "name": "ipython",
    "version": 3
   },
   "file_extension": ".py",
   "mimetype": "text/x-python",
   "name": "python",
   "nbconvert_exporter": "python",
   "pygments_lexer": "ipython3",
   "version": "3.8.5"
  }
 },
 "nbformat": 4,
 "nbformat_minor": 4
}
